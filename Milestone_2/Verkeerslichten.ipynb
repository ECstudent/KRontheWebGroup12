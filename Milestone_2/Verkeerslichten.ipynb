{
 "cells": [
  {
   "cell_type": "code",
   "execution_count": 1,
   "metadata": {
    "collapsed": false
   },
   "outputs": [],
   "source": [
    "import csv, re, requests\n",
    "from rdflib import Dataset, URIRef, Literal, Namespace, RDF, RDFS, OWL, XSD\n",
    "from iribaker import to_iri\n",
    "from SPARQLWrapper import SPARQLWrapper, JSON"
   ]
  },
  {
   "cell_type": "code",
   "execution_count": 2,
   "metadata": {
    "collapsed": true
   },
   "outputs": [],
   "source": [
    "# from geomet import wkt\n",
    "# pip install git+git://github.com/geomet/geomet.git"
   ]
  },
  {
   "cell_type": "code",
   "execution_count": 2,
   "metadata": {
    "collapsed": true
   },
   "outputs": [],
   "source": [
    "TUTORIAL_REPOSITORY = \"http://stardog.krw.d2s.labs.vu.nl/group12\"\n",
    "\n",
    "def upload_to_stardog(data):\n",
    "    transaction_begin_url = TUTORIAL_REPOSITORY + \"/transaction/begin\"\n",
    "    \n",
    "    # Start the transaction, and get a transaction_id\n",
    "    response = requests.post(transaction_begin_url, headers={'Accept': 'text/plain'})\n",
    "    transaction_id = response.content\n",
    "    \n",
    "    # POST the data to the transaction\n",
    "    post_url = TUTORIAL_REPOSITORY + \"/\" + transaction_id + \"/add\"\n",
    "    response = requests.post(post_url, data=data, headers={'Accept': 'text/plain', 'Content-type': 'application/trig'})\n",
    "    \n",
    "    # Close the transaction\n",
    "    transaction_close_url = TUTORIAL_REPOSITORY + \"/transaction/commit/\" + transaction_id\n",
    "    response = requests.post(transaction_close_url)\n",
    "\n",
    "    return str(response.status_code)"
   ]
  },
  {
   "cell_type": "code",
   "execution_count": 3,
   "metadata": {
    "collapsed": true
   },
   "outputs": [],
   "source": [
    "VALID_CHARS = list(\"ABCDEFGHIJKLMNOPQRSTUVWXYZabcdefghijklmnopqrstuvwxyz0123456789-._~:/?#[]@!$&'()*+,;=\")"
   ]
  },
  {
   "cell_type": "code",
   "execution_count": 4,
   "metadata": {
    "collapsed": false
   },
   "outputs": [],
   "source": [
    "# A namespace for our resources\n",
    "data = 'http://data.krw.d2s.labs.vu.nl/group12/resource/'\n",
    "DATA = Namespace(data)\n",
    "# A namespace for our vocabulary items (schema information, RDFS, OWL classes and properties etc.)\n",
    "vocab = 'http://data.krw.d2s.labs.vu.nl/group12/vocab/'\n",
    "VOCAB = Namespace('http://data.krw.d2s.labs.vu.nl/group12/vocab/')\n",
    "\n",
    "# The URI for our graph\n",
    "graph_uri = URIRef('http://data.krw.d2s.labs.vu.nl/group12/resource/trafficlightgraph')\n",
    "\n",
    "# We initialize a dataset, and bind our namespaces\n",
    "dataset = Dataset()\n",
    "dataset.bind('g12data',DATA)\n",
    "dataset.bind('g12vocab',VOCAB)\n",
    "\n",
    "# We then get a new graph object with our URI from the dataset.\n",
    "graph = dataset.graph(graph_uri)\n",
    "\n",
    "# Create namespaces for our Geo-data\n",
    "GSP = Namespace('http://www.opengis.net/ont/geosparql#')\n",
    "GSF = Namespace('http://www.opengis.net/ont/sf#')"
   ]
  },
  {
   "cell_type": "code",
   "execution_count": 5,
   "metadata": {
    "collapsed": false
   },
   "outputs": [],
   "source": [
    "myFile = open('../Milestone 1/data/VERKEERSLICHTEN.csv', 'r')\n",
    "verkeerslichten = csv.reader(myFile, delimiter=',', quotechar='\"')\n",
    "\n",
    "headers = verkeerslichten.next()\n",
    "headers[0] = headers[0].split('\\xef\\xbb\\xbf')[1] if headers[0].startswith('\\xef') else headers[0]\n",
    "\n",
    "idIDX = headers.index('OBJECTNUMMER')\n",
    "kpnIDX = headers.index('Kruispuntnummer')\n",
    "krpIDX = headers.index('Kruispunt')\n",
    "gerIDX = headers.index('Geregeld_sinds_schatting')\n",
    "verIDX = headers.index('Vervallen_sinds_schatting')\n",
    "regIDX = headers.index('Regeling')\n",
    "srtIDX = headers.index('Soort')\n",
    "kopIDX = headers.index('Koppeling')\n",
    "staIDX = headers.index('Status')\n",
    "webIDX = headers.index('Weblink')\n",
    "cooIDX = headers.index('COORDS')\n",
    "latIDX = headers.index('CENTERLAT2')\n",
    "lngIDX = headers.index('CENTERLNG2')"
   ]
  },
  {
   "cell_type": "code",
   "execution_count": 6,
   "metadata": {
    "collapsed": false,
    "scrolled": true
   },
   "outputs": [],
   "source": [
    "# Load the externally defined schema into the default graph (context) of the dataset\n",
    "dataset.default_context.parse('vocab.ttl', format='turtle')\n",
    "\n",
    "# create pattern for splitting streets in Kruispunt column\n",
    "splitpattern = re.compile(r' / *| - ')\n",
    "\n",
    "for row in verkeerslichten:\n",
    "    # first create the URI's\n",
    "    verkeerslicht      = URIRef(to_iri(data + 'TrafficLight/' + row[idIDX]))\n",
    "    verkeerslichtNaam  = Literal('Trafficlight' + row[idIDX], datatype=XSD['string'])\n",
    "    kruispunt          = URIRef(to_iri(data + 'TrafficlightJunction/' + row[idIDX]))\n",
    "    kruispuntNaam      = Literal('TrafficlightJunction' + row[idIDX], datatype=XSD['string'])\n",
    "    kruispuntNummer    = Literal(row[kpnIDX], datatype=XSD['int'])\n",
    "    if row[gerIDX].strip() != '0' and row[gerIDX].strip() != ' ':\n",
    "        geregeldSinds  = Literal(row[gerIDX], datatype=XSD['gYear'])\n",
    "    else:\n",
    "        geregeldSinds = ''\n",
    "    if row[verIDX].strip() != '0' and row[verIDX].strip() != '':\n",
    "        vervallenSinds = Literal(row[verIDX], datatype=XSD['gYear'])\n",
    "    else:\n",
    "        vervallenSinds = ''\n",
    "    status             = Literal(row[staIDX], lang='nl')\n",
    "    straatURI = []\n",
    "    straatNaam = []\n",
    "    for el in re.split(splitpattern, row[krpIDX]):\n",
    "        el = el.strip()\n",
    "        temp = ''.join([c for c in el.replace(' ', '_') if c in VALID_CHARS])\n",
    "        straatURI.append(URIRef(to_iri(data + temp)))\n",
    "        straatNaam.append(Literal(el, lang='nl'))\n",
    "    regeling           = Literal(row[regIDX], lang='nl')\n",
    "    soort              = Literal(row[srtIDX], lang='nl')\n",
    "    koppeling          = Literal(row[kopIDX], lang='nl')\n",
    "    weblink            = URIRef(to_iri(row[webIDX])) if row[webIDX].strip() != '' else ''\n",
    "    # original data uses Dutch decimal mark (comma), switch to dot\n",
    "#     try:\n",
    "#         newLat = float(row[latIDX].replace(',', '.'))\n",
    "#     except ValueError:\n",
    "#         newLat = 0.0\n",
    "#     lat = Literal(newLat, datatype=XSD['float'])\n",
    "#     try:\n",
    "#         newLng = float(row[lngIDX].replace(',', '.'))\n",
    "#     except ValueError:\n",
    "#         newLng = 0.0\n",
    "#     lng = Literal(newLng, datatype=XSD['float'])\n",
    "    coords             = Literal(row[cooIDX], datatype=GSP.wktLiteral)\n",
    "    myTLPoint          = URIRef(to_iri(data + 'TrafficLight/' + row[idIDX] + '/Point'))\n",
    "    myTLJPoint         = URIRef(to_iri(data + 'TrafficLightJunction/' + row[idIDX] + '/Point'))\n",
    "    \n",
    "    # second create the actual triples\n",
    "    graph.add((verkeerslicht, RDF.type, VOCAB['Trafficlight']))\n",
    "    graph.add((verkeerslicht, RDFS.label, verkeerslichtNaam))\n",
    "    graph.add((verkeerslicht, GSP.hasGeometry, myTLPoint))\n",
    "    graph.add((verkeerslicht, VOCAB['trafficlightJunction'], kruispunt))\n",
    "    if geregeldSinds != '':\n",
    "        graph.add((verkeerslicht, VOCAB['geregeldSinds'], geregeldSinds))\n",
    "    if vervallenSinds != '':\n",
    "        graph.add((verkeerslicht, VOCAB['vervallenSinds'], vervallenSinds))\n",
    "    graph.add((verkeerslicht, VOCAB['status'], status))\n",
    "    graph.add((verkeerslicht, VOCAB['regeling'], regeling))\n",
    "    graph.add((verkeerslicht, VOCAB['soort'], soort))\n",
    "    graph.add((verkeerslicht, VOCAB['koppeling'], koppeling))\n",
    "    if weblink != '':\n",
    "        graph.add((verkeerslicht, VOCAB['weblink'], weblink))\n",
    "#     graph.add((verkeerslicht, VOCAB['lat'], lat))\n",
    "#     graph.add((verkeerslicht, VOCAB['lng'], lng))\n",
    "    graph.add((kruispunt, RDF.type, VOCAB['TrafficlightJunction']))\n",
    "    graph.add((kruispunt, RDFS.label, kruispuntNaam))\n",
    "    graph.add((kruispunt, VOCAB['trafficlight'], verkeerslicht))\n",
    "    graph.add((kruispunt, VOCAB['kruispuntnummer'], kruispuntNummer))\n",
    "#     graph.add((kruispunt, VOCAB['lat'], lat))\n",
    "#     graph.add((kruispunt, VOCAB['lng'], lng))\n",
    "    for uri, naam in zip(straatURI, straatNaam):\n",
    "        graph.add((uri, RDF.type, VOCAB['Street']))\n",
    "        graph.add((uri, RDFS.label, naam))\n",
    "        graph.add((kruispunt, VOCAB['street'], uri))\n",
    "    graph.add((kruispunt, GSP.hasGeometry, myTLJPoint))\n",
    "    graph.add((myTLPoint, RDF.type, GSF.Point))\n",
    "    graph.add((myTLPoint, GSP.asWKT, coords))\n",
    "    graph.add((myTLJPoint, RDF.type, GSF.Point))\n",
    "    graph.add((myTLJPoint, GSP.asWKT, coords))\n",
    "\n",
    "# close the csv file\n",
    "myFile.close()\n",
    "\n",
    "# print 'response.status_code = ' + upload_to_stardog(dataset.serialize(format='trig'))"
   ]
  },
  {
   "cell_type": "code",
   "execution_count": 20,
   "metadata": {
    "collapsed": false
   },
   "outputs": [],
   "source": [
    "#print dataset.serialize(format='trig')"
   ]
  },
  {
   "cell_type": "code",
   "execution_count": 20,
   "metadata": {
    "collapsed": true
   },
   "outputs": [],
   "source": [
    "# with open('temp-trafficlights-rdf.trig','w') as f:\n",
    "#     dataset.serialize(f, format='trig')"
   ]
  },
  {
   "cell_type": "code",
   "execution_count": null,
   "metadata": {
    "collapsed": false
   },
   "outputs": [],
   "source": [
    "query = \"\"\"\n",
    "PREFIX gr12vocab: <http://data.krw.d2s.labs.vu.nl/group12/vocab/> \n",
    "\n",
    "SELECT * WHERE {\n",
    "  ?x a gr12vocab:Verkeerslicht .\n",
    "}LIMIT 10\"\"\"\n",
    "\n",
    "endpoint = TUTORIAL_REPOSITORY + '/query'\n",
    "\n",
    "sparql = SPARQLWrapper(endpoint)\n",
    "\n",
    "sparql.setQuery(query)\n",
    "\n",
    "sparql.setReturnFormat(JSON)\n",
    "sparql.addParameter('Accept','application/sparql-results+json')"
   ]
  },
  {
   "cell_type": "code",
   "execution_count": null,
   "metadata": {
    "collapsed": false
   },
   "outputs": [],
   "source": [
    "#sparql.addParameter('reasoning','false')\n",
    "#response = sparql.query().convert()\n",
    "#print response"
   ]
  },
  {
   "cell_type": "code",
   "execution_count": null,
   "metadata": {
    "collapsed": false
   },
   "outputs": [],
   "source": [
    "#sparql.addParameter('reasoning','true')\n",
    "#response = sparql.query().convert()\n",
    "#print response"
   ]
  },
  {
   "cell_type": "code",
   "execution_count": null,
   "metadata": {
    "collapsed": true
   },
   "outputs": [],
   "source": []
  }
 ],
 "metadata": {
  "kernelspec": {
   "display_name": "Python 2",
   "language": "python",
   "name": "python2"
  },
  "language_info": {
   "codemirror_mode": {
    "name": "ipython",
    "version": 2
   },
   "file_extension": ".py",
   "mimetype": "text/x-python",
   "name": "python",
   "nbconvert_exporter": "python",
   "pygments_lexer": "ipython2",
   "version": "2.7.11"
  }
 },
 "nbformat": 4,
 "nbformat_minor": 0
}
