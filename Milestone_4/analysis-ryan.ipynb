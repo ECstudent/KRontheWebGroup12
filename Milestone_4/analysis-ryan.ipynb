{
 "cells": [
  {
   "cell_type": "markdown",
   "metadata": {},
   "source": [
    "## Analysis\n",
    "\n",
    "You will need to install both `networkx` (using `pip`) and `matplotlib` (see <http://matplotlib.org/users/installing.html> for installation instructions)"
   ]
  },
  {
   "cell_type": "code",
   "execution_count": 1,
   "metadata": {
    "collapsed": true
   },
   "outputs": [],
   "source": [
    "import networkx as nx\n",
    "from SPARQLWrapper import SPARQLWrapper, JSON\n",
    "import requests\n",
    "import matplotlib.pyplot as plt\n",
    "from rdflib import ConjunctiveGraph\n",
    "from timeit import default_timer as timer\n",
    "%matplotlib inline  "
   ]
  },
  {
   "cell_type": "code",
   "execution_count": 2,
   "metadata": {
    "collapsed": true
   },
   "outputs": [],
   "source": [
    "prefix = \"PREFIX : <http://data.krw.d2s.labs.vu.nl/group12/vocab/>\"\n",
    "TUTORIAL_REPOSITORY = \"http://stardog.krw.d2s.labs.vu.nl/group12\"\n",
    "endpoint = TUTORIAL_REPOSITORY + \"/query\""
   ]
  },
  {
   "cell_type": "code",
   "execution_count": 3,
   "metadata": {
    "collapsed": false
   },
   "outputs": [],
   "source": [
    "def clearStardog():\n",
    "    \"\"\"Careful! This one clears the entire stardog repository specified in TUTORIAL_REPOSITORY\"\"\"\n",
    "    transaction_begin_url = TUTORIAL_REPOSITORY + \"/transaction/begin\"\n",
    "    \n",
    "    # Start the transaction, and get a transaction_id\n",
    "    response = requests.post(transaction_begin_url, headers={'Accept': 'text/plain'})\n",
    "    transaction_id = response.content\n",
    "\n",
    "    print \"Transaction id: {}\".format(transaction_id)\n",
    "    # POST the data to the transaction\n",
    "    post_url = TUTORIAL_REPOSITORY + \"/\" + transaction_id + \"/clear\"\n",
    "    response = requests.post(post_url, headers={'Accept': 'text/plain'})\n",
    "    \n",
    "    print \"Sent clear request: {}\".format(response.status_code)\n",
    "    \n",
    "    # Close the transaction\n",
    "    transaction_close_url = TUTORIAL_REPOSITORY + \"/transaction/commit/\" + transaction_id\n",
    "    response = requests.post(transaction_close_url)\n",
    "\n",
    "    print \"Closing transaction: {}\".format(response.status_code)\n",
    "    \n",
    "    return\n",
    "\n",
    "def upload_file_to_stardog(filename, mimetype='application/trig'):\n",
    "    \"\"\"Well, obvious what this does... you can set the 'mimetype' to e.g. text/turtle if you want to upload a turtle file\"\"\"\n",
    "    with open(filename,'r') as f:\n",
    "        data = f.read()\n",
    "        \n",
    "    upload_to_stardog(data, mimetype=mimetype)\n",
    "    \n",
    "    return\n",
    "    \n",
    "\n",
    "def upload_to_stardog(data, mimetype='application/trig'):\n",
    "    \"\"\"Upload data to Stardog, you know this one from the previous assignments...\"\"\"\n",
    "    transaction_begin_url = TUTORIAL_REPOSITORY + \"/transaction/begin\"\n",
    "    \n",
    "    # Start the transaction, and get a transaction_id\n",
    "    response = requests.post(transaction_begin_url, headers={'Accept': 'text/plain'})\n",
    "    transaction_id = response.content\n",
    "\n",
    "    print \"Transaction id: {}\".format(transaction_id)\n",
    "    \n",
    "    # POST the data to the transaction\n",
    "    post_url = TUTORIAL_REPOSITORY + \"/\" + transaction_id + \"/add\"\n",
    "    response = requests.post(post_url, data=data, headers={'Accept': 'text/plain', 'Content-type': mimetype}, stream=True)\n",
    "\n",
    "    print \"Sent add request: {}\".format(response.status_code)\n",
    "    \n",
    "    # Close the transaction\n",
    "    transaction_close_url = TUTORIAL_REPOSITORY + \"/transaction/commit/\" + transaction_id\n",
    "    response = requests.post(transaction_close_url)\n",
    "\n",
    "    print \"Closing transaction: {}\".format(response.status_code)\n",
    "    \n",
    "    return\n",
    "\n",
    "def getJunctionMatches(reasoning='false', max=None):\n",
    "    '''Get all TrafficLightJunctions that are spatially equal or close to a Junction'''\n",
    "    query = '''\n",
    "PREFIX krv: <http://data.krw.d2s.labs.vu.nl/group12/vocab/>\n",
    "PREFIX geo: <http://www.opengis.net/ont/geosparql#>\n",
    "PREFIX geof: <http://www.opengis.net/def/function/geosparql/>\n",
    "PREFIX unit: <http://qudt.org/vocab/unit#>\n",
    "\n",
    "SELECT ?junc ?tljunc WHERE {\n",
    "  ?junc     a                   krv:Junction ;\n",
    "            geo:hasGeometry     ?geo1 .\n",
    "  ?tljunc   a                   krv:TrafficlightJunction ;\n",
    "            geo:hasGeometry     ?geo2 .\n",
    "  FILTER(geof:distance(?geo1, ?geo2, unit:Meter) < 20)\n",
    "}'''\n",
    "    if max != None:\n",
    "        query = query + ' LIMIT ' + str(max)\n",
    "    \n",
    "    return [(r['junc']['value'], r['tljunc']['value']) for r in runQuery(query, reasoning)]\n",
    "    \n",
    "def getClasses(reasoning='true', max=None):\n",
    "    \"\"\"Get all classes from the repo, optionally with a limit of `max`\"\"\"\n",
    "    if max is None :\n",
    "        query = prefix + \"\"\"SELECT ?c WHERE {?c a owl:Class }\"\"\"\n",
    "    else :\n",
    "        query = prefix + \"\"\"SELECT ?c WHERE {?c a owl:Class } LIMIT \"\"\" + str(max)\n",
    "    \n",
    "    return [r['c']['value'] for r in runQuery(query, reasoning)]\n",
    "    \n",
    "\n",
    "def getInstances(className, reasoning='true', max=None, graph=None):\n",
    "    \"\"\"Get the instances for a class.. be sure to include < and > around its URI\"\"\"\n",
    "    query = prefix + \"\"\"\n",
    "    SELECT ?i WHERE {{?i a {} . }}\n",
    "    \"\"\".format(className)\n",
    "    if max != None:\n",
    "        query = query + ' LIMIT ' + str(max)\n",
    "    if graph:\n",
    "        return [r[0] for r in graph.query(query)]\n",
    "    else:\n",
    "        return [r['i']['value'] for r in runQuery(query, reasoning)]\n",
    "\n",
    "def countUsage(reasoning='true', max=None):\n",
    "    \"\"\"Count the number of occurrences of a resource. Will differ significantly if reasoning is 'false'\"\"\"\n",
    "    query = \"\"\"\n",
    "        SELECT ?resource (COUNT(?resource) as ?count) WHERE {\n",
    "            { ?resource ?p1 ?o1 . }\n",
    "            UNION\n",
    "            { ?s1 ?resource ?o2 . }\n",
    "            UNION\n",
    "            { ?s2 ?p2 ?resource . }\n",
    "        } GROUP BY ?resource ORDER BY DESC(?count)\n",
    "    \"\"\"\n",
    "    \n",
    "    results = runQuery(query, reasoning)\n",
    "    \n",
    "    index = {}\n",
    "    \n",
    "    count = 0\n",
    "    for r in results:\n",
    "        if not max is None and count > max:\n",
    "            break\n",
    "        \n",
    "        if 'resource' in r:\n",
    "            index[unicode(r['resource']['value'])] = int(r['count']['value'])\n",
    "        \n",
    "        count += 1\n",
    "    \n",
    "    return index\n",
    "\n",
    "\n",
    "def countClassUsage(reasoning='true', max=None):\n",
    "    \"\"\"Count how many (inferred) instances a class has\"\"\"\n",
    "    query = \"\"\"\n",
    "        SELECT ?class (COUNT(?resource) as ?count) WHERE {\n",
    "            ?resource a ?class . \n",
    "        } GROUP BY ?class ORDER BY DESC(?count)\n",
    "    \"\"\"\n",
    "    \n",
    "    results = runQuery(query, reasoning)\n",
    "    \n",
    "    index = {}\n",
    "    \n",
    "    count = 0\n",
    "    for r in results:\n",
    "        if not max is None and count > max:\n",
    "            break\n",
    "        \n",
    "        if 'class' in r:\n",
    "            index[unicode(r['class']['value'])] = int(r['count']['value'])\n",
    "        \n",
    "        count += 1\n",
    "    \n",
    "    return index\n",
    "\n",
    "def countUsageLocal(rdfgraph, max=None):\n",
    "    \"\"\"Count usage of a resource on a local RDFLib graph\"\"\"\n",
    "    query = \"\"\"\n",
    "        SELECT ?resource (COUNT(?resource) as ?count) WHERE {\n",
    "            { ?resource ?p1 ?o1 . }\n",
    "            UNION\n",
    "            { ?s1 ?resource ?o2 . }\n",
    "            UNION\n",
    "            { ?s2 ?p2 ?resource . }\n",
    "        } GROUP BY ?resource ORDER BY ?resource\n",
    "    \"\"\"\n",
    "    \n",
    "    results = g.query(query)\n",
    "    \n",
    "    index = {}\n",
    "    \n",
    "    count = 0\n",
    "    for r in results:\n",
    "        if not max is None and count > max:\n",
    "            break\n",
    "            \n",
    "        index[unicode(r['resource'])] = int(r['count'])\n",
    "        \n",
    "        count += 1\n",
    "    \n",
    "    return index\n",
    "    \n",
    "\n",
    "def runQuery(query, reasoning='true'):\n",
    "    \"\"\"Run a SPARQL query against the endpoint\"\"\"\n",
    "    sparql = SPARQLWrapper(endpoint)\n",
    "\n",
    "    sparql.setQuery(query)\n",
    "\n",
    "    sparql.setReturnFormat(JSON)\n",
    "    sparql.addParameter('Accept','application/sparql-results+json')\n",
    "\n",
    "    sparql.addParameter('reasoning',reasoning)\n",
    "\n",
    "    response = sparql.query().convert()\n",
    "\n",
    "    return response['results']['bindings']\n",
    "\n",
    "def avg(myList, toString=False):\n",
    "    temp = sum(myList) / float(len(myList))\n",
    "    return str(temp) if toString else temp\n",
    "\n",
    "def runQueryTests(classes, numruns=10, graph=None):\n",
    "    myResults = {}\n",
    "    for myClass in classes:\n",
    "        # initialize dicts\n",
    "        myResults[myClass] = {}\n",
    "        myResults[myClass]['false'] = {}\n",
    "        myResults[myClass]['false']['time'] = []\n",
    "        myResults[myClass]['true'] = {}\n",
    "        myResults[myClass]['true']['time'] = []\n",
    "        # run the query with and without reasoning\n",
    "        for reasoning in ['false','true']:\n",
    "            # do multiple runs to calculate average runtime\n",
    "            for run in range(numruns):\n",
    "                start = timer()\n",
    "                temp = getInstances('<http://data.krw.d2s.labs.vu.nl/group12/vocab/{}>'.format(myClass), reasoning=reasoning, graph=graph)\n",
    "                end = float(timer() - start)\n",
    "                myResults[myClass][reasoning]['time'].append(end)\n",
    "            myResults[myClass][reasoning]['data'] = temp\n",
    "    return myResults\n",
    "\n",
    "def printQueryTestResults(data, maxResults=10):\n",
    "    for classKey, classValue in data.iteritems():\n",
    "        print 'Class: ' + classKey\n",
    "        for reasonKey, reasonValue in classValue.iteritems():\n",
    "            print '...' + ('reasoning' if reasonKey == 'true' else 'no reasoning')\n",
    "            print '......average runtime: ' + avg(reasonValue['time'], toString=True) + ' seconds'\n",
    "            if not reasonValue['data']: # is empty?\n",
    "                print '......(no results)'\n",
    "            for i, myResult in enumerate(reasonValue['data']):\n",
    "                if i > maxResults:\n",
    "                    print '......(more results omitted)'\n",
    "                    break\n",
    "                print '......' + str(i) + ': ' + str(myResult)"
   ]
  },
  {
   "cell_type": "markdown",
   "metadata": {},
   "source": [
    "### Example analysis\n",
    "\n",
    "Upload the example files to Stardog"
   ]
  },
  {
   "cell_type": "code",
   "execution_count": 12,
   "metadata": {
    "collapsed": true
   },
   "outputs": [],
   "source": [
    "# upload_file_to_stardog('o1.trig')\n",
    "# upload_file_to_stardog('o2.trig')\n",
    "# upload_file_to_stardog('d1.trig')\n",
    "# upload_file_to_stardog('d2.trig')"
   ]
  },
  {
   "cell_type": "code",
   "execution_count": 13,
   "metadata": {
    "collapsed": false
   },
   "outputs": [
    {
     "name": "stdout",
     "output_type": "stream",
     "text": [
      "0.0369027479408 seconds\n"
     ]
    }
   ],
   "source": [
    "start = timer()\n",
    "result0 = getClasses(max=1000, reasoning='false')\n",
    "end = timer()\n",
    "print str(end - start) + ' seconds'"
   ]
  },
  {
   "cell_type": "code",
   "execution_count": 14,
   "metadata": {
    "collapsed": false
   },
   "outputs": [
    {
     "data": {
      "text/plain": [
       "[u'http://data.krw.d2s.labs.vu.nl/group12/vocab/RoadSection',\n",
       " u'http://data.krw.d2s.labs.vu.nl/group12/vocab/Town',\n",
       " u'http://data.krw.d2s.labs.vu.nl/group12/vocab/Junction',\n",
       " u'http://data.krw.d2s.labs.vu.nl/group12/vocab/TrafficAccident',\n",
       " u'http://data.krw.d2s.labs.vu.nl/group12/vocab/Street',\n",
       " u'http://data.krw.d2s.labs.vu.nl/group12/vocab/Trafficlight',\n",
       " u'http://data.krw.d2s.labs.vu.nl/group12/vocab/Accident',\n",
       " u'http://data.krw.d2s.labs.vu.nl/group12/vocab/TrafficlightJunction',\n",
       " u'http://data.krw.d2s.labs.vu.nl/group12/vocab/Event',\n",
       " u'http://data.krw.d2s.labs.vu.nl/group12/vocab/Location',\n",
       " u'http://data.krw.d2s.labs.vu.nl/group12/vocab/DangerousJunction',\n",
       " u'http://data.krw.d2s.labs.vu.nl/group12/vocab/DangerousRoadSection',\n",
       " u'bnode_6d8298e3_266c_474a_8342_9a4e9db3d9d5_1925',\n",
       " u'bnode_6d8298e3_266c_474a_8342_9a4e9db3d9d5_1930',\n",
       " u'bnode_6d8298e3_266c_474a_8342_9a4e9db3d9d5_1935',\n",
       " u'bnode_6d8298e3_266c_474a_8342_9a4e9db3d9d5_1940',\n",
       " u'bnode_6d8298e3_266c_474a_8342_9a4e9db3d9d5_1944',\n",
       " u'bnode_6d8298e3_266c_474a_8342_9a4e9db3d9d5_2029',\n",
       " u'bnode_6d8298e3_266c_474a_8342_9a4e9db3d9d5_2034',\n",
       " u'bnode_6d8298e3_266c_474a_8342_9a4e9db3d9d5_2039',\n",
       " u'bnode_6d8298e3_266c_474a_8342_9a4e9db3d9d5_2044',\n",
       " u'bnode_6d8298e3_266c_474a_8342_9a4e9db3d9d5_2048',\n",
       " u'bnode_6d8298e3_266c_474a_8342_9a4e9db3d9d5_2133',\n",
       " u'bnode_6d8298e3_266c_474a_8342_9a4e9db3d9d5_2138',\n",
       " u'bnode_6d8298e3_266c_474a_8342_9a4e9db3d9d5_2143',\n",
       " u'bnode_6d8298e3_266c_474a_8342_9a4e9db3d9d5_2148',\n",
       " u'bnode_6d8298e3_266c_474a_8342_9a4e9db3d9d5_2152',\n",
       " u'http://data.krw.d2s.labs.vu.nl/group12/vocab/Address',\n",
       " u'genid1',\n",
       " u'genid6',\n",
       " u'genid11',\n",
       " u'genid15',\n",
       " u'genid20']"
      ]
     },
     "execution_count": 14,
     "metadata": {},
     "output_type": "execute_result"
    }
   ],
   "source": [
    "result0"
   ]
  },
  {
   "cell_type": "code",
   "execution_count": 15,
   "metadata": {
    "collapsed": false
   },
   "outputs": [
    {
     "name": "stdout",
     "output_type": "stream",
     "text": [
      "0.039065943326 seconds\n"
     ]
    }
   ],
   "source": [
    "start = timer()\n",
    "result0 = getClasses(max=1000, reasoning='true')\n",
    "end = timer()\n",
    "print str(end - start) + ' seconds'"
   ]
  },
  {
   "cell_type": "code",
   "execution_count": 16,
   "metadata": {
    "collapsed": false
   },
   "outputs": [
    {
     "data": {
      "text/plain": [
       "[u'http://data.krw.d2s.labs.vu.nl/group12/vocab/Location',\n",
       " u'http://www.opengis.net/ont/sf#Point',\n",
       " u'http://data.krw.d2s.labs.vu.nl/group12/vocab/Town',\n",
       " u'http://rdfs.org/ns/void#Dataset',\n",
       " u'http://data.krw.d2s.labs.vu.nl/group12/vocab/Event',\n",
       " u'http://data.krw.d2s.labs.vu.nl/group12/vocab/Trafficlight',\n",
       " u'http://www.w3.org/2002/07/owl#Nothing',\n",
       " u'http://data.krw.d2s.labs.vu.nl/group12/vocab/DangerousRoadSection',\n",
       " u'http://data.krw.d2s.labs.vu.nl/group12/vocab/TrafficlightJunction',\n",
       " u'http://data.krw.d2s.labs.vu.nl/group12/vocab/RoadSection',\n",
       " u'http://data.krw.d2s.labs.vu.nl/group12/vocab/DangerousJunction',\n",
       " u'http://data.krw.d2s.labs.vu.nl/group12/vocab/Junction',\n",
       " u'http://data.krw.d2s.labs.vu.nl/group12/vocab/Accident',\n",
       " u'http://www.w3.org/2002/07/owl#Thing',\n",
       " u'http://data.krw.d2s.labs.vu.nl/group12/vocab/Street',\n",
       " u'http://data.krw.d2s.labs.vu.nl/group12/vocab/TrafficAccident',\n",
       " u'http://data.krw.d2s.labs.vu.nl/group12/vocab/Address']"
      ]
     },
     "execution_count": 16,
     "metadata": {},
     "output_type": "execute_result"
    }
   ],
   "source": [
    "result0"
   ]
  },
  {
   "cell_type": "markdown",
   "metadata": {},
   "source": [
    "Now get all classes from the repository. Select one, and use its URI to retrieve instances.\n",
    "\n",
    "(Play around with reasoning 'false' and 'true')"
   ]
  },
  {
   "cell_type": "code",
   "execution_count": 17,
   "metadata": {
    "collapsed": false
   },
   "outputs": [
    {
     "name": "stdout",
     "output_type": "stream",
     "text": [
      "20.2107336304 seconds\n"
     ]
    }
   ],
   "source": [
    "start = timer()\n",
    "result1 = getJunctionMatches(reasoning='false', max=10)\n",
    "end = timer()\n",
    "print str(end - start) + ' seconds'"
   ]
  },
  {
   "cell_type": "code",
   "execution_count": 18,
   "metadata": {
    "collapsed": false,
    "scrolled": true
   },
   "outputs": [
    {
     "data": {
      "text/plain": [
       "[(u'http://data.krw.d2s.labs.vu.nl/group12/resource/Junction/242368116',\n",
       "  u'http://data.krw.d2s.labs.vu.nl/group12/resource/TrafficlightJunction/688'),\n",
       " (u'http://data.krw.d2s.labs.vu.nl/group12/resource/Junction/246372204',\n",
       "  u'http://data.krw.d2s.labs.vu.nl/group12/resource/TrafficlightJunction/87'),\n",
       " (u'http://data.krw.d2s.labs.vu.nl/group12/resource/Junction/246372204',\n",
       "  u'http://data.krw.d2s.labs.vu.nl/group12/resource/TrafficlightJunction/87'),\n",
       " (u'http://data.krw.d2s.labs.vu.nl/group12/resource/Junction/246372205',\n",
       "  u'http://data.krw.d2s.labs.vu.nl/group12/resource/TrafficlightJunction/87'),\n",
       " (u'http://data.krw.d2s.labs.vu.nl/group12/resource/Junction/246372205',\n",
       "  u'http://data.krw.d2s.labs.vu.nl/group12/resource/TrafficlightJunction/87'),\n",
       " (u'http://data.krw.d2s.labs.vu.nl/group12/resource/Junction/239374030',\n",
       "  u'http://data.krw.d2s.labs.vu.nl/group12/resource/TrafficlightJunction/69'),\n",
       " (u'http://data.krw.d2s.labs.vu.nl/group12/resource/Junction/239374030',\n",
       "  u'http://data.krw.d2s.labs.vu.nl/group12/resource/TrafficlightJunction/69'),\n",
       " (u'http://data.krw.d2s.labs.vu.nl/group12/resource/Junction/239374148',\n",
       "  u'http://data.krw.d2s.labs.vu.nl/group12/resource/TrafficlightJunction/69'),\n",
       " (u'http://data.krw.d2s.labs.vu.nl/group12/resource/Junction/243371003',\n",
       "  u'http://data.krw.d2s.labs.vu.nl/group12/resource/TrafficlightJunction/104'),\n",
       " (u'http://data.krw.d2s.labs.vu.nl/group12/resource/Junction/243371003',\n",
       "  u'http://data.krw.d2s.labs.vu.nl/group12/resource/TrafficlightJunction/104')]"
      ]
     },
     "execution_count": 18,
     "metadata": {},
     "output_type": "execute_result"
    }
   ],
   "source": [
    "result1"
   ]
  },
  {
   "cell_type": "code",
   "execution_count": 19,
   "metadata": {
    "collapsed": true
   },
   "outputs": [],
   "source": [
    "# trafficlightjunction subclassof junction\n",
    "# trafficaccident has from and to properties which is equivalent to an event\n",
    "# junction, roadsections, etc. are subclassesof location\n",
    "# junction or roadsection with at least 1 trafficaccident is dangerous (doesn't work in stardog)\n",
    "myInferredClasses = ['Junction','Event','Location','DangerousJunction','DangerousRoadSection']"
   ]
  },
  {
   "cell_type": "markdown",
   "metadata": {},
   "source": [
    "Try several queries with and without reasoning."
   ]
  },
  {
   "cell_type": "code",
   "execution_count": 20,
   "metadata": {
    "collapsed": false
   },
   "outputs": [],
   "source": [
    "testResults = runQueryTests(myInferredClasses)"
   ]
  },
  {
   "cell_type": "code",
   "execution_count": 21,
   "metadata": {
    "collapsed": false
   },
   "outputs": [
    {
     "name": "stdout",
     "output_type": "stream",
     "text": [
      "Class: DangerousJunction\n",
      "...reasoning\n",
      "......average runtime: 0.0313237945092 seconds\n",
      "......(no results)\n",
      "...no reasoning\n",
      "......average runtime: 0.035095135797 seconds\n",
      "......(no results)\n",
      "Class: Junction\n",
      "...reasoning\n",
      "......average runtime: 2.33950775572 seconds\n",
      "......0: http://data.krw.d2s.labs.vu.nl/group12/resource/TrafficlightJunction/688\n",
      "......1: http://data.krw.d2s.labs.vu.nl/group12/resource/TrafficlightJunction/87\n",
      "......2: http://data.krw.d2s.labs.vu.nl/group12/resource/TrafficlightJunction/69\n",
      "......3: http://data.krw.d2s.labs.vu.nl/group12/resource/TrafficlightJunction/100\n",
      "......4: http://data.krw.d2s.labs.vu.nl/group12/resource/TrafficlightJunction/104\n",
      "......5: http://data.krw.d2s.labs.vu.nl/group12/resource/TrafficlightJunction/52\n",
      "......6: http://data.krw.d2s.labs.vu.nl/group12/resource/TrafficlightJunction/63\n",
      "......7: http://data.krw.d2s.labs.vu.nl/group12/resource/TrafficlightJunction/308\n",
      "......8: http://data.krw.d2s.labs.vu.nl/group12/resource/TrafficlightJunction/345\n",
      "......9: http://data.krw.d2s.labs.vu.nl/group12/resource/TrafficlightJunction/92\n",
      "......10: http://data.krw.d2s.labs.vu.nl/group12/resource/TrafficlightJunction/102\n",
      "......(more results omitted)\n",
      "...no reasoning\n",
      "......average runtime: 1.67759245314 seconds\n",
      "......0: http://data.krw.d2s.labs.vu.nl/group12/resource/Junction/243374266\n",
      "......1: http://data.krw.d2s.labs.vu.nl/group12/resource/Junction/243374266\n",
      "......2: http://data.krw.d2s.labs.vu.nl/group12/resource/Junction/240373045\n",
      "......3: http://data.krw.d2s.labs.vu.nl/group12/resource/Junction/240373045\n",
      "......4: http://data.krw.d2s.labs.vu.nl/group12/resource/Junction/239379106\n",
      "......5: http://data.krw.d2s.labs.vu.nl/group12/resource/Junction/237369022\n",
      "......6: http://data.krw.d2s.labs.vu.nl/group12/resource/Junction/237369022\n",
      "......7: http://data.krw.d2s.labs.vu.nl/group12/resource/Junction/243371037\n",
      "......8: http://data.krw.d2s.labs.vu.nl/group12/resource/Junction/243371037\n",
      "......9: http://data.krw.d2s.labs.vu.nl/group12/resource/Junction/248359020\n",
      "......10: http://data.krw.d2s.labs.vu.nl/group12/resource/Junction/248359020\n",
      "......(more results omitted)\n",
      "Class: Event\n",
      "...reasoning\n",
      "......average runtime: 2.48672425232 seconds\n",
      "......0: http://data.krw.d2s.labs.vu.nl/group12/resource/TrafficAccident/20090011819\n",
      "......1: http://data.krw.d2s.labs.vu.nl/group12/resource/TrafficAccident/20090012360\n",
      "......2: http://data.krw.d2s.labs.vu.nl/group12/resource/TrafficAccident/20090012416\n",
      "......3: http://data.krw.d2s.labs.vu.nl/group12/resource/TrafficAccident/20090012686\n",
      "......4: http://data.krw.d2s.labs.vu.nl/group12/resource/TrafficAccident/20090012694\n",
      "......5: http://data.krw.d2s.labs.vu.nl/group12/resource/TrafficAccident/20090013048\n",
      "......6: http://data.krw.d2s.labs.vu.nl/group12/resource/TrafficAccident/20090020889\n",
      "......7: http://data.krw.d2s.labs.vu.nl/group12/resource/TrafficAccident/20090020934\n",
      "......8: http://data.krw.d2s.labs.vu.nl/group12/resource/TrafficAccident/20090023262\n",
      "......9: http://data.krw.d2s.labs.vu.nl/group12/resource/TrafficAccident/20090028063\n",
      "......10: http://data.krw.d2s.labs.vu.nl/group12/resource/TrafficAccident/20090036864\n",
      "......(more results omitted)\n",
      "...no reasoning\n",
      "......average runtime: 0.0284708512622 seconds\n",
      "......(no results)\n",
      "Class: DangerousRoadSection\n",
      "...reasoning\n",
      "......average runtime: 0.0312071440914 seconds\n",
      "......(no results)\n",
      "...no reasoning\n",
      "......average runtime: 0.0288768237294 seconds\n",
      "......(no results)\n",
      "Class: Location\n",
      "...reasoning\n",
      "......average runtime: 4.63674513761 seconds\n",
      "......0: http://data.krw.d2s.labs.vu.nl/group12/resource/TrafficlightJunction/688\n",
      "......1: http://data.krw.d2s.labs.vu.nl/group12/resource/\n",
      "......2: http://data.krw.d2s.labs.vu.nl/group12/resource/TrafficlightJunction/87\n",
      "......3: http://data.krw.d2s.labs.vu.nl/group12/resource/TrafficlightJunction/69\n",
      "......4: http://data.krw.d2s.labs.vu.nl/group12/resource/TrafficlightJunction/100\n",
      "......5: http://data.krw.d2s.labs.vu.nl/group12/resource/Ahob\n",
      "......6: http://data.krw.d2s.labs.vu.nl/group12/resource/TrafficlightJunction/104\n",
      "......7: http://data.krw.d2s.labs.vu.nl/group12/resource/TrafficlightJunction/52\n",
      "......8: http://data.krw.d2s.labs.vu.nl/group12/resource/TrafficlightJunction/63\n",
      "......9: http://data.krw.d2s.labs.vu.nl/group12/resource/Alblasstraat\n",
      "......10: http://data.krw.d2s.labs.vu.nl/group12/resource/Australihavenweg\n",
      "......(more results omitted)\n",
      "...no reasoning\n",
      "......average runtime: 0.0308393155428 seconds\n",
      "......(no results)\n"
     ]
    }
   ],
   "source": [
    "printQueryTestResults(testResults)"
   ]
  },
  {
   "cell_type": "markdown",
   "metadata": {},
   "source": [
    "### Locally\n",
    "\n",
    "Load the example files in an RDFLib graph (locally). Note that a large graph may become problematic (given memory limitations).\n",
    "\n",
    "A `ConjunctiveGraph` object allows for loading named graphs, but hides them (i.e. you don't need to think about the graphs when querying the data)."
   ]
  },
  {
   "cell_type": "code",
   "execution_count": 22,
   "metadata": {
    "collapsed": false
   },
   "outputs": [],
   "source": [
    "g = ConjunctiveGraph()\n",
    "\n",
    "g += g.parse('trafficlights-rdf.trig', format='trig')\n",
    "g += g.parse('trafficaccidents-rdf.trig', format='trig')\n",
    "g += g.parse('roadsections-rdf.trig', format='trig')\n"
   ]
  },
  {
   "cell_type": "markdown",
   "metadata": {},
   "source": [
    "Try running the query tests on the local data."
   ]
  },
  {
   "cell_type": "code",
   "execution_count": 23,
   "metadata": {
    "collapsed": false
   },
   "outputs": [],
   "source": [
    "localTestResults = runQueryTests(myInferredClasses, graph=g)"
   ]
  },
  {
   "cell_type": "code",
   "execution_count": 24,
   "metadata": {
    "collapsed": false
   },
   "outputs": [
    {
     "name": "stdout",
     "output_type": "stream",
     "text": [
      "Class: DangerousJunction\n",
      "...reasoning\n",
      "......average runtime: 0.00435753737062 seconds\n",
      "......(no results)\n",
      "...no reasoning\n",
      "......average runtime: 0.00430821480912 seconds\n",
      "......(no results)\n",
      "Class: Junction\n",
      "...reasoning\n",
      "......average runtime: 0.391283559928 seconds\n",
      "......0: http://data.krw.d2s.labs.vu.nl/group12/resource/Junction/243385048\n",
      "......1: http://data.krw.d2s.labs.vu.nl/group12/resource/Junction/247373089\n",
      "......2: http://data.krw.d2s.labs.vu.nl/group12/resource/Junction/250378124\n",
      "......3: http://data.krw.d2s.labs.vu.nl/group12/resource/Junction/235376013\n",
      "......4: http://data.krw.d2s.labs.vu.nl/group12/resource/Junction/240380013\n",
      "......5: http://data.krw.d2s.labs.vu.nl/group12/resource/Junction/238370003\n",
      "......6: http://data.krw.d2s.labs.vu.nl/group12/resource/Junction/248374068\n",
      "......7: http://data.krw.d2s.labs.vu.nl/group12/resource/Junction/241378017\n",
      "......8: http://data.krw.d2s.labs.vu.nl/group12/resource/Junction/245372136\n",
      "......9: http://data.krw.d2s.labs.vu.nl/group12/resource/Junction/254372023\n",
      "......10: http://data.krw.d2s.labs.vu.nl/group12/resource/Junction/226370081\n",
      "......(more results omitted)\n",
      "...no reasoning\n",
      "......average runtime: 0.574078220633 seconds\n",
      "......0: http://data.krw.d2s.labs.vu.nl/group12/resource/Junction/243385048\n",
      "......1: http://data.krw.d2s.labs.vu.nl/group12/resource/Junction/247373089\n",
      "......2: http://data.krw.d2s.labs.vu.nl/group12/resource/Junction/250378124\n",
      "......3: http://data.krw.d2s.labs.vu.nl/group12/resource/Junction/235376013\n",
      "......4: http://data.krw.d2s.labs.vu.nl/group12/resource/Junction/240380013\n",
      "......5: http://data.krw.d2s.labs.vu.nl/group12/resource/Junction/238370003\n",
      "......6: http://data.krw.d2s.labs.vu.nl/group12/resource/Junction/248374068\n",
      "......7: http://data.krw.d2s.labs.vu.nl/group12/resource/Junction/241378017\n",
      "......8: http://data.krw.d2s.labs.vu.nl/group12/resource/Junction/245372136\n",
      "......9: http://data.krw.d2s.labs.vu.nl/group12/resource/Junction/254372023\n",
      "......10: http://data.krw.d2s.labs.vu.nl/group12/resource/Junction/226370081\n",
      "......(more results omitted)\n",
      "Class: Event\n",
      "...reasoning\n",
      "......average runtime: 0.00430322281978 seconds\n",
      "......(no results)\n",
      "...no reasoning\n",
      "......average runtime: 0.0044107425904 seconds\n",
      "......(no results)\n",
      "Class: DangerousRoadSection\n",
      "...reasoning\n",
      "......average runtime: 0.00428167619909 seconds\n",
      "......(no results)\n",
      "...no reasoning\n",
      "......average runtime: 0.00431273746616 seconds\n",
      "......(no results)\n",
      "Class: Location\n",
      "...reasoning\n",
      "......average runtime: 0.00429289750848 seconds\n",
      "......(no results)\n",
      "...no reasoning\n",
      "......average runtime: 0.00434153740471 seconds\n",
      "......(no results)\n"
     ]
    }
   ],
   "source": [
    "printQueryTestResults(localTestResults)"
   ]
  },
  {
   "cell_type": "markdown",
   "metadata": {},
   "source": [
    "Several simple statistics. The following code uses the `index` variable. Adjust where needed (e.g. replace `index` with `index_remote`)"
   ]
  },
  {
   "cell_type": "code",
   "execution_count": 25,
   "metadata": {
    "collapsed": false
   },
   "outputs": [],
   "source": [
    "index = countUsageLocal(g)"
   ]
  },
  {
   "cell_type": "code",
   "execution_count": 26,
   "metadata": {
    "collapsed": false
   },
   "outputs": [],
   "source": [
    "# index"
   ]
  },
  {
   "cell_type": "code",
   "execution_count": 27,
   "metadata": {
    "collapsed": false
   },
   "outputs": [],
   "source": [
    "index_remote = countUsage(reasoning='false')"
   ]
  },
  {
   "cell_type": "code",
   "execution_count": 28,
   "metadata": {
    "collapsed": false
   },
   "outputs": [],
   "source": [
    "# index_remote"
   ]
  },
  {
   "cell_type": "code",
   "execution_count": 29,
   "metadata": {
    "collapsed": true
   },
   "outputs": [],
   "source": [
    "index_classes = countClassUsage(reasoning='true')"
   ]
  },
  {
   "cell_type": "code",
   "execution_count": 46,
   "metadata": {
    "collapsed": false
   },
   "outputs": [
    {
     "data": {
      "text/plain": [
       "{u'http://data.krw.d2s.labs.vu.nl/group12/vocab/Accident': 19041,\n",
       " u'http://data.krw.d2s.labs.vu.nl/group12/vocab/Event': 19041,\n",
       " u'http://data.krw.d2s.labs.vu.nl/group12/vocab/Junction': 17117,\n",
       " u'http://data.krw.d2s.labs.vu.nl/group12/vocab/Location': 46978,\n",
       " u'http://data.krw.d2s.labs.vu.nl/group12/vocab/RoadSection': 23956,\n",
       " u'http://data.krw.d2s.labs.vu.nl/group12/vocab/Street': 5348,\n",
       " u'http://data.krw.d2s.labs.vu.nl/group12/vocab/Town': 1,\n",
       " u'http://data.krw.d2s.labs.vu.nl/group12/vocab/TrafficAccident': 19041,\n",
       " u'http://data.krw.d2s.labs.vu.nl/group12/vocab/Trafficlight': 556,\n",
       " u'http://data.krw.d2s.labs.vu.nl/group12/vocab/TrafficlightJunction': 556,\n",
       " u'http://rdfs.org/ns/void#Dataset': 3,\n",
       " u'http://www.opengis.net/ont/sf#Point': 41104,\n",
       " u'http://www.w3.org/2002/07/owl#Thing': 107161}"
      ]
     },
     "execution_count": 46,
     "metadata": {},
     "output_type": "execute_result"
    }
   ],
   "source": [
    "index_classes"
   ]
  },
  {
   "cell_type": "markdown",
   "metadata": {},
   "source": [
    "Get the frequencies for each resource, and sort by frequency value.\n",
    "\n",
    "Plot them at loglog scale"
   ]
  },
  {
   "cell_type": "code",
   "execution_count": 44,
   "metadata": {
    "collapsed": false
   },
   "outputs": [
    {
     "data": {
      "text/plain": [
       "<matplotlib.text.Text at 0x678df5f8>"
      ]
     },
     "execution_count": 44,
     "metadata": {},
     "output_type": "execute_result"
    },
    {
     "data": {
      "image/png": "[encoded data removed]",
      "text/plain": [
       "<matplotlib.figure.Figure at 0x3e2ed3c8>"
      ]
     },
     "metadata": {},
     "output_type": "display_data"
    }
   ],
   "source": [
    "frequencies_by_value = sorted(index_classes.values(), reverse=True)\n",
    "\n",
    "plt.loglog(frequencies_by_value,'b-',linestyle='None', marker='.')\n",
    "plt.title(\"Frequencies rank plot\")\n",
    "plt.ylabel(\"frequency\")\n",
    "plt.xlabel(\"rank\")"
   ]
  },
  {
   "cell_type": "markdown",
   "metadata": {},
   "source": [
    "Get the frequencies for each resource, and sort by URI name (i.e. alphabetically)\n",
    "\n",
    "Plot them at loglog scale"
   ]
  },
  {
   "cell_type": "code",
   "execution_count": 45,
   "metadata": {
    "collapsed": false
   },
   "outputs": [
    {
     "data": {
      "text/plain": [
       "<matplotlib.text.Text at 0x77e55748>"
      ]
     },
     "execution_count": 45,
     "metadata": {},
     "output_type": "execute_result"
    },
    {
     "data": {
      "image/png": "[encoded data removed]",
      "text/plain": [
       "<matplotlib.figure.Figure at 0x205c3b38>"
      ]
     },
     "metadata": {},
     "output_type": "display_data"
    }
   ],
   "source": [
    "frequencies_by_URI = index_classes.values()\n",
    "\n",
    "plt.loglog(frequencies_by_URI,'b-',linestyle='None', marker='.')\n",
    "plt.title(\"Frequencies by URI plot\")\n",
    "plt.ylabel(\"degree\")\n",
    "plt.xlabel(\"uri\")"
   ]
  },
  {
   "cell_type": "markdown",
   "metadata": {},
   "source": [
    "### Network Analysis\n",
    "\n",
    "Build a directed `networkx` graph from the RDF graph"
   ]
  },
  {
   "cell_type": "code",
   "execution_count": 35,
   "metadata": {
    "collapsed": true
   },
   "outputs": [],
   "source": [
    "def buildNetwork(rdfgraph, query = \"\"\"SELECT * WHERE {?source ?edge ?target.}\"\"\", max=None):\n",
    "    ## Query is assumed to have a source, target and edge\n",
    "    \n",
    "    results = g.query(query)\n",
    "    \n",
    "    G = nx.DiGraph()\n",
    "    \n",
    "    count = 0\n",
    "    for r in results:\n",
    "        if not max is None and count > max:\n",
    "            break\n",
    "        \n",
    "        G.add_edge(r['source'], r['target'], {'type': r['edge']})\n",
    "        \n",
    "        count += 1\n",
    "        \n",
    "    return G\n"
   ]
  },
  {
   "cell_type": "code",
   "execution_count": 36,
   "metadata": {
    "collapsed": false
   },
   "outputs": [],
   "source": [
    "G = buildNetwork(g, max=1000)"
   ]
  },
  {
   "cell_type": "markdown",
   "metadata": {},
   "source": [
    "Get the degrees for each node in the graph, and sort them from large to small"
   ]
  },
  {
   "cell_type": "code",
   "execution_count": 37,
   "metadata": {
    "collapsed": false
   },
   "outputs": [
    {
     "name": "stdout",
     "output_type": "stream",
     "text": [
      "1368 [158, 48, 40, 34, 32, 29, 20, 20, 20, 16, 16, 16, 15, 13, 12, 11, 10, 9, 9, 8, 7, 7, 6, 5, 5, 5, 5, 5, 4, 4, 4, 3, 3, 3, 3, 3, 3, 2, 2, 2, 2, 2, 2, 2, 2, 2, 2, 2, 2, 2, 2, 2, 2, 2, 2, 2, 2, 2, 2, 2, 2, 2, 2, 2, 2, 2, 2, 2, 2, 2, 2, 2, 2, 2, 2, 2, 2, 2, 2, 2, 2, 2, 2, 1, 1, 1, 1, 1, 1, 1, 1, 1, 1, 1, 1, 1, 1, 1, 1, 1]\n"
     ]
    }
   ],
   "source": [
    "degree_sequence=sorted(nx.degree(G).values(),reverse=True) # degree sequence\n",
    "\n",
    "# And see what it looks like...\n",
    "if len(degree_sequence) > 100:\n",
    "    print len(degree_sequence), degree_sequence[:100]"
   ]
  },
  {
   "cell_type": "markdown",
   "metadata": {},
   "source": [
    "Plot the graph using a spring layout (warning, may be very slow for large graphs)"
   ]
  },
  {
   "cell_type": "code",
   "execution_count": 38,
   "metadata": {
    "collapsed": false
   },
   "outputs": [
    {
     "data": {
      "image/png": "[encoded data removed]",
      "text/plain": [
       "<matplotlib.figure.Figure at 0x6c778400>"
      ]
     },
     "metadata": {},
     "output_type": "display_data"
    }
   ],
   "source": [
    "# draw graph in inset\n",
    "plt.axes([1.45,1.45,1.45,1.45])\n",
    "#Gcc=sorted(nx.connected_component_subgraphs(G), key = len, reverse=True)[0]\n",
    "pos=nx.spring_layout(G)\n",
    "plt.axis('off')\n",
    "nx.draw_networkx_nodes(G,pos,node_size=25)\n",
    "nx.draw_networkx_edges(G,pos,alpha=0.4)\n",
    "\n",
    "# plt.savefig(\"graph.png\")\n",
    "plt.show()"
   ]
  },
  {
   "cell_type": "markdown",
   "metadata": {},
   "source": [
    "Plot the degrees at loglog scale"
   ]
  },
  {
   "cell_type": "code",
   "execution_count": 39,
   "metadata": {
    "collapsed": false
   },
   "outputs": [
    {
     "data": {
      "text/plain": [
       "<matplotlib.text.Text at 0x18efbef0>"
      ]
     },
     "execution_count": 39,
     "metadata": {},
     "output_type": "execute_result"
    },
    {
     "data": {
      "image/png": "[encoded data removed]",
      "text/plain": [
       "<matplotlib.figure.Figure at 0x23be3e48>"
      ]
     },
     "metadata": {},
     "output_type": "display_data"
    }
   ],
   "source": [
    "indegree_sequence=sorted(nx.in_degree_centrality(G).values(),reverse=True) # degree sequence\n",
    "dmax=max(indegree_sequence)\n",
    "\n",
    "plt.loglog(indegree_sequence,'b-',marker='o')\n",
    "plt.title(\"Degree rank plot\")\n",
    "plt.ylabel(\"degree\")\n",
    "plt.xlabel(\"rank\")"
   ]
  },
  {
   "cell_type": "code",
   "execution_count": 40,
   "metadata": {
    "collapsed": false
   },
   "outputs": [
    {
     "data": {
      "text/plain": [
       "<matplotlib.text.Text at 0x7d1a52e8>"
      ]
     },
     "execution_count": 40,
     "metadata": {},
     "output_type": "execute_result"
    },
    {
     "data": {
      "image/png": "[encoded data removed]",
      "text/plain": [
       "<matplotlib.figure.Figure at 0x3faf2080>"
      ]
     },
     "metadata": {},
     "output_type": "display_data"
    }
   ],
   "source": [
    "outdegree_sequence=sorted(nx.out_degree_centrality(G).values(),reverse=True) # degree sequence\n",
    "dmax=max(outdegree_sequence)\n",
    "\n",
    "plt.plot(outdegree_sequence,'r-',marker='*')\n",
    "plt.title(\"Degree rank plot\")\n",
    "plt.ylabel(\"degree\")\n",
    "plt.xlabel(\"rank\")"
   ]
  },
  {
   "cell_type": "markdown",
   "metadata": {},
   "source": [
    "You can also do Pagerank on the graph (have a look at the `networkx` documentation)"
   ]
  },
  {
   "cell_type": "code",
   "execution_count": 41,
   "metadata": {
    "collapsed": false
   },
   "outputs": [
    {
     "data": {
      "text/plain": [
       "<matplotlib.text.Text at 0x574446a0>"
      ]
     },
     "execution_count": 41,
     "metadata": {},
     "output_type": "execute_result"
    },
    {
     "data": {
      "image/png": "[encoded data removed]",
      "text/plain": [
       "<matplotlib.figure.Figure at 0x4a01a7b8>"
      ]
     },
     "metadata": {},
     "output_type": "display_data"
    }
   ],
   "source": [
    "pagerank_sequence=sorted(nx.pagerank(G).values(),reverse=True) # degree sequence\n",
    "dmax=max(pagerank_sequence)\n",
    "\n",
    "plt.loglog(pagerank_sequence,'b-',marker='o')\n",
    "plt.title(\"Page rank plot\")\n",
    "plt.ylabel(\"pagerank\")\n",
    "plt.xlabel(\"rank\")"
   ]
  },
  {
   "cell_type": "code",
   "execution_count": null,
   "metadata": {
    "collapsed": true
   },
   "outputs": [],
   "source": []
  }
 ],
 "metadata": {
  "kernelspec": {
   "display_name": "Python 2",
   "language": "python",
   "name": "python2"
  },
  "language_info": {
   "codemirror_mode": {
    "name": "ipython",
    "version": 2
   },
   "file_extension": ".py",
   "mimetype": "text/x-python",
   "name": "python",
   "nbconvert_exporter": "python",
   "pygments_lexer": "ipython2",
   "version": "2.7.11"
  }
 },
 "nbformat": 4,
 "nbformat_minor": 0
}
