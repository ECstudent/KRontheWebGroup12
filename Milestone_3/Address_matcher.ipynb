{
 "cells": [
  {
   "cell_type": "code",
   "execution_count": 1,
   "metadata": {
    "collapsed": false
   },
   "outputs": [],
   "source": [
    "import csv, re, requests\n",
    "from rdflib import Dataset, URIRef, Literal, Namespace, RDF, RDFS, OWL, XSD\n",
    "from iribaker import to_iri\n",
    "from SPARQLWrapper import SPARQLWrapper, JSON\n",
    "import pprint as pp"
   ]
  },
  {
   "cell_type": "code",
   "execution_count": 2,
   "metadata": {
    "collapsed": false
   },
   "outputs": [],
   "source": [
    "GROUP12_REPOSITORY_VOCAB = \"http://data.krw.d2s.labs.vu.nl/group12/vocab/\""
   ]
  },
  {
   "cell_type": "code",
   "execution_count": 3,
   "metadata": {
    "collapsed": false
   },
   "outputs": [],
   "source": [
    "def getPostcodesCity():\n",
    "    postcodesFile = open('postcode.csv', 'r')\n",
    "    fieldnames = ['PC','PLAATS','GEMEENTE','PROVINCIE']\n",
    "    postcodes = csv.DictReader(postcodesFile, delimiter=',', quotechar='\"', fieldnames=fieldnames)\n",
    "    headers = postcodes.next()\n",
    "    postcodeDict = {}\n",
    "    for row in postcodes:\n",
    "        postcodeDict[row['PC']] = row['GEMEENTE']\n",
    "    return postcodeDict\n",
    "postcodeDict = getPostcodesCity()"
   ]
  },
  {
   "cell_type": "code",
   "execution_count": 4,
   "metadata": {
    "collapsed": true
   },
   "outputs": [],
   "source": [
    "def stringFilter(string, valid_chars):\n",
    "    string = ''.join([c for c in string.replace(' ', '_') if c in valid_chars]).lower()\n",
    "    return string"
   ]
  },
  {
   "cell_type": "code",
   "execution_count": 5,
   "metadata": {
    "collapsed": false
   },
   "outputs": [
    {
     "name": "stdout",
     "output_type": "stream",
     "text": [
      "\n",
      "PREFIX kkv: <http://data.krw.d2s.labs.vu.nl/group12/vocab/> \n",
      "\n",
      "SELECT DISTINCT ?s ?streetName WHERE {\n",
      "  ?s a kkv:Street;\n",
      "      rdfs:label ?streetName.\n",
      "}LIMIT 1000\n",
      " OFFSET 0\n",
      "1000\n",
      "2000\n",
      "3000\n",
      "4000\n",
      "5000\n",
      "6000\n"
     ]
    }
   ],
   "source": [
    "def getStreetNames():\n",
    "    VALID_CHARS = list(\"ABCDEFGHIJKLMNOPQRSTUVWXYZabcdefghijklmnopqrstuvwxyz-\")\n",
    "    REPOSITORY = \"http://stardog.krw.d2s.labs.vu.nl/group12\"\n",
    "    REPOSITORY_VOCAB = (REPOSITORY + \"/vocab/\").replace(\"stardog\",\"data\") \n",
    "    endpoint = REPOSITORY + '/query'\n",
    "    sparql = SPARQLWrapper(endpoint)\n",
    "    \n",
    "    query = \"\"\"\n",
    "PREFIX kkv: <%s> \n",
    "\n",
    "SELECT DISTINCT ?s ?streetName WHERE {\n",
    "  ?s a kkv:Street;\n",
    "      rdfs:label ?streetName.\n",
    "}LIMIT %d\n",
    " OFFSET %d\"\"\"\n",
    "\n",
    "    limit = 1000\n",
    "    offset = 0\n",
    "    sparql.setQuery(query%(REPOSITORY_VOCAB, limit, offset))\n",
    "    print query%(REPOSITORY_VOCAB, limit, offset)\n",
    "    sparql.setReturnFormat(JSON)\n",
    "    sparql.addParameter('Accept','application/sparql-results+json')\n",
    "    results = sparql.query().convert()\n",
    "    numResults = len(results['results']['bindings'])\n",
    "    streetNames = {}\n",
    "    while numResults > 0:\n",
    "        for object in results['results']['bindings']:\n",
    "            name = object['streetName']['value']\n",
    "            s = object['s']['value']\n",
    "            newName = stringFilter(name, VALID_CHARS)\n",
    "            streetNames[newName] = s\n",
    "        offset += limit\n",
    "        print offset\n",
    "        sparql.setQuery(query%(REPOSITORY_VOCAB, limit, offset))\n",
    "        results = sparql.query().convert()\n",
    "        numResults = len(results['results']['bindings'])\n",
    "            \n",
    "    return streetNames\n",
    "streetNames = getStreetNames()"
   ]
  },
  {
   "cell_type": "code",
   "execution_count": 22,
   "metadata": {
    "collapsed": false
   },
   "outputs": [
    {
     "name": "stdout",
     "output_type": "stream",
     "text": [
      "Group13\n",
      "Group15\n"
     ]
    }
   ],
   "source": [
    "def checkEndpoint(repository, streetNames, postcodeDict, out):\n",
    "    postcodeRegex = '^[1-9][0-9]{3} ?(?!sa|sd|ss)[a-z]{2}'\n",
    "    \n",
    "    VALID_CHARS = list(\"ABCDEFGHIJKLMNOPQRSTUVWXYZabcdefghijklmnopqrstuvwxyz-\")\n",
    "    REPOSITORY_VOCAB = (repository + \"/vocab/\").replace(\"stardog\",\"data\") \n",
    "    endpoint = repository + '/query'\n",
    "    sparql12 = SPARQLWrapper(\"http://stardog.krw.d2s.labs.vu.nl/group12/query\")\n",
    "    sparql12.setReturnFormat(JSON)\n",
    "    sparql12.addParameter('Accept','application/sparql-results+json')\n",
    "    \n",
    "    sparql = SPARQLWrapper(endpoint)\n",
    "    sparql.setReturnFormat(JSON)\n",
    "    sparql.addParameter('Accept','application/sparql-results+json')\n",
    "    \n",
    "    overallQuery = \"\"\"\n",
    "PREFIX kkv: <%s> \n",
    "\n",
    "SELECT DISTINCT ?s ?o WHERE {\n",
    "  ?s ?p ?o.\n",
    "}LIMIT %d\n",
    " OFFSET %d\"\"\"\n",
    "    \n",
    "    objectQuery = \"\"\"\n",
    "PREFIX kkv: <%s> \n",
    "\n",
    "SELECT DISTINCT ?o WHERE {\n",
    "  <%s> ?p ?o.\n",
    "}LIMIT %d  \n",
    "    \"\"\"\n",
    "    \n",
    "    roadsectionQuery = \"\"\"\n",
    "PREFIX kkv: <%s> \n",
    "\n",
    "SELECT DISTINCT ?s ?e_hnr_lnks ?l_hnr_lnks ?e_hnr_rhts ?l_hnr_rhts ?hnrstrlnks ?hnrstrrhts WHERE {\n",
    "  ?s ?p <%s>.\n",
    "  ?s a kkv:RoadSection;\n",
    "       kkv:e_hnr_lnks\t?e_hnr_lnks;\n",
    "       kkv:l_hnr_lnks\t?l_hnr_lnks;\n",
    "       kkv:e_hnr_rhts\t?e_hnr_rhts;\n",
    "       kkv:l_hnr_rhts\t?l_hnr_rhts;\n",
    "       kkv:hnrstrlnks\t?hnrstrlnks;\n",
    "       kkv:hnrstrrhts\t?hnrstrrhts.\n",
    "}LIMIT %d  \n",
    "    \"\"\"\n",
    "    \n",
    "    limit = 5000\n",
    "    offset = 0\n",
    "    sparql.setQuery(overallQuery%(REPOSITORY_VOCAB, limit, offset))\n",
    "\n",
    "    results = sparql.query().convert()\n",
    "    numResults = len(results['results']['bindings'])\n",
    "    for object in results['results']['bindings']:\n",
    "        name = object['o']['value'].strip()\n",
    "        subject = object['s']['value'].strip()\n",
    "        newName = stringFilter(name, VALID_CHARS)\n",
    "        #It looks like we found a street\n",
    "        if newName and newName in streetNames:\n",
    "            #maybe we also have the housenumber\n",
    "            splitName = name.split()\n",
    "            if splitName[-1].isdigit():\n",
    "                straat = \" \".join(splitName[0:-1])\n",
    "                huisnummer = splitName[-1]\n",
    "            else:\n",
    "                straat = name\n",
    "                huisnummer = 0\n",
    "            \n",
    "            sparql.setQuery(objectQuery%(REPOSITORY_VOCAB, subject,limit))\n",
    "            results = sparql.query().convert()\n",
    "            stad = None\n",
    "            postcode = None\n",
    "            for objectResult in results['results']['bindings']:\n",
    "                objectName = objectResult['o']['value']\n",
    "                if stringFilter(objectName, VALID_CHARS) == \"amsterdam\":\n",
    "                    stad = objectName\n",
    "            \n",
    "                regexed = re.search(postcodeRegex, objectName, flags=re.IGNORECASE)\n",
    "                if regexed:\n",
    "                    postcode = regexed.group(0)\n",
    "                    postNumber = re.search('[1-9][0-9]{3}', objectName, flags=re.IGNORECASE)\n",
    "                    stad = postcodeDict[postNumber.group(0)]\n",
    "\n",
    "            # We make this assumption to ensure we can match with at least 2 group ontologies\n",
    "            if '13' in repository:\n",
    "                stad = 'Amsterdam'\n",
    "            \n",
    "            if huisnummer and stad == \"Amsterdam\":\n",
    "                #print \"\\nstraat:%s huisnummer:%s\\npostcode:%s stad:%s\\n%s\"%(straat, huisnummer, postcode, stad, streetNames[newName])\n",
    "                out.write(\"\\nstraat:%s\\nhuisnummer:%s\\npostcode:%s\\nstad:%s\\n%s\\n\"%(straat, huisnummer, postcode, stad, streetNames[newName]))\n",
    "                sparql12.setQuery(roadsectionQuery%(GROUP12_REPOSITORY_VOCAB, streetNames[newName],limit))\n",
    "                results = sparql12.query().convert()\n",
    "                try:\n",
    "                    huisnummer = int(huisnummer)\n",
    "                    even = True if not huisnummer%2 else False\n",
    "                    #print 'even' if even else 'odd'\n",
    "                except:\n",
    "                    print \"Something went wrong, skip\"\n",
    "                for objectResult in results['results']['bindings']:\n",
    "                    #Check left\n",
    "                    leven = True if objectResult['hnrstrlnks']['value'] == \"E\" or objectResult['hnrstrlnks']['value'] == \"B\" else False\n",
    "                    if (even and leven and \n",
    "                        (int(objectResult['e_hnr_lnks']['value']) <= huisnummer <= int(objectResult['l_hnr_lnks']['value']) or\n",
    "                         int(objectResult['l_hnr_lnks']['value']) <= huisnummer <= int(objectResult['e_hnr_lnks']['value']))\n",
    "                        ):\n",
    "                        #print objectResult['s']['value']\n",
    "                        out.write(objectResult['s']['value'] + '\\n')\n",
    "                    if (not even and not leven and \n",
    "                        (int(objectResult['e_hnr_lnks']['value']) <= huisnummer <= int(objectResult['l_hnr_lnks']['value']) or\n",
    "                         int(objectResult['l_hnr_lnks']['value']) <= huisnummer <= int(objectResult['e_hnr_lnks']['value']))\n",
    "                        ):\n",
    "                        #print objectResult['s']['value']\n",
    "                        out.write(objectResult['s']['value'] + '\\n')\n",
    "\n",
    "                    #check right\n",
    "                    reven = True if objectResult['hnrstrrhts']['value'] == \"E\" or objectResult['hnrstrrhts']['value'] == \"B\" else False\n",
    "                    if (even and reven and \n",
    "                        (int(objectResult['e_hnr_rhts']['value']) <= huisnummer <= int(objectResult['l_hnr_rhts']['value']) or\n",
    "                         int(objectResult['l_hnr_rhts']['value']) <= huisnummer <= int(objectResult['e_hnr_rhts']['value']))\n",
    "                        ):\n",
    "                        #print objectResult['s']['value']\n",
    "                        out.write(objectResult['s']['value'] + '\\n')\n",
    "                    if (not even and not reven and \n",
    "                        (int(objectResult['e_hnr_rhts']['value']) <= huisnummer <= int(objectResult['l_hnr_rhts']['value']) or\n",
    "                         int(objectResult['l_hnr_rhts']['value']) <= huisnummer <= int(objectResult['e_hnr_rhts']['value']))\n",
    "                        ):\n",
    "                        #print objectResult['s']['value']\n",
    "                        out.write(objectResult['s']['value'] + '\\n')\n",
    "            \n",
    "#             print name, newName\n",
    "for i in [13, 15]:\n",
    "    print \"Group%d\"%(i)\n",
    "    with open('Group%d-MatchingResults.txt'%(i), 'w') as out:\n",
    "        checkEndpoint(\"http://stardog.krw.d2s.labs.vu.nl/group%d\"%(i), streetNames, postcodeDict, out)\n"
   ]
  },
  {
   "cell_type": "code",
   "execution_count": null,
   "metadata": {
    "collapsed": true
   },
   "outputs": [],
   "source": []
  }
 ],
 "metadata": {
  "kernelspec": {
   "display_name": "Python 2",
   "language": "python",
   "name": "python2"
  },
  "language_info": {
   "codemirror_mode": {
    "name": "ipython",
    "version": 2
   },
   "file_extension": ".py",
   "mimetype": "text/x-python",
   "name": "python",
   "nbconvert_exporter": "python",
   "pygments_lexer": "ipython2",
   "version": "2.7.11"
  }
 },
 "nbformat": 4,
 "nbformat_minor": 0
}
