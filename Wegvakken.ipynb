{
 "cells": [
  {
   "cell_type": "code",
   "execution_count": 1,
   "metadata": {
    "collapsed": false
   },
   "outputs": [],
   "source": [
    "import json, requests\n",
    "from pprint import *\n",
    "import csv\n",
    "import collections\n",
    "from unidecode import unidecode\n",
    "import re, requests\n",
    "from rdflib import Dataset, URIRef, Literal, Namespace, RDF, RDFS, OWL, XSD\n",
    "from iribaker import to_iri\n",
    "from SPARQLWrapper import SPARQLWrapper, JSON"
   ]
  },
  {
   "cell_type": "code",
   "execution_count": 2,
   "metadata": {
    "collapsed": false
   },
   "outputs": [],
   "source": [
    "from geomet import wkt\n",
    "# pip install git+git://github.com/geomet/geomet.git"
   ]
  },
  {
   "cell_type": "code",
   "execution_count": 3,
   "metadata": {
    "collapsed": false
   },
   "outputs": [],
   "source": [
    "url = 'http://geodata.nationaalgeoregister.nl/nwbwegen/wfs?service=WFS&request=GetFeature&typeName=nwbwegen:wegvakken&count=%d&startIndex=%d&outputFormat=json&srsName=EPSG:4326'\n",
    "\n",
    "count = 10\n",
    "startIndex = 0\n",
    "amsterdamData = []"
   ]
  },
  {
   "cell_type": "code",
   "execution_count": 4,
   "metadata": {
    "collapsed": false,
    "scrolled": false
   },
   "outputs": [],
   "source": [
    "def retreiveWegvakken():\n",
    "    count = 10000\n",
    "    startIndex = 1\n",
    "    f = open('amsterdam-wegvakken.csv','wb')\n",
    "    resp = requests.get(url=url % (count, startIndex))\n",
    "    data = json.loads(resp.text)\n",
    "\n",
    "    featuresChecked = 0\n",
    "    totalFeatures = data['totalFeatures']\n",
    "    print totalFeatures\n",
    "\n",
    "    keys = ['coordinates', 'avgCoordinates', 'wtk']\n",
    "    keys += data['features'][0]['properties'].keys()\n",
    "    print keys\n",
    "    w = csv.DictWriter(f,keys)\n",
    "    w.writeheader()\n",
    "\n",
    "    startIndex = 1\n",
    "    filterCity = 'Amsterdam'\n",
    "    while startIndex < totalFeatures:\n",
    "        retry = True\n",
    "        while retry:\n",
    "            try:\n",
    "                resp = requests.get(url=url % (count, startIndex))\n",
    "                retry = False\n",
    "            except Timeout:\n",
    "                print \"retry, connection timed out\"\n",
    "            except Exception:\n",
    "                print \"some other error, Exit!\"\n",
    "                return\n",
    "        data = json.loads(resp.text)\n",
    "        print startIndex\n",
    "        for feat in data['features']:\n",
    "            if feat['properties']['gme_naam'] == filterCity:\n",
    "                wegVakData = {}\n",
    "                coordinates = feat['geometry']['coordinates']\n",
    "                avgCoordinates = [sum(i[0] for i in coordinates[0])/len(coordinates[0]), sum(i[1] for i in coordinates[0])/len(coordinates[0])]\n",
    "                wegVakData = feat['properties'].copy()\n",
    "                wegVakData['wtk'] = feat['geometry']\n",
    "                wegVakData['coordinates']    = coordinates\n",
    "                wegVakData['avgCoordinates'] = avgCoordinates\n",
    "                wegVakData =  dict([(k.encode('ascii', 'replace'), v.encode('ascii', 'replace') if type(v) is str or type(v) is unicode else v) for k, v in wegVakData.items()])\n",
    "                w.writerow(wegVakData)\n",
    "        startIndex += count\n",
    "\n",
    "    f.close()"
   ]
  },
  {
   "cell_type": "code",
   "execution_count": 20,
   "metadata": {
    "collapsed": true
   },
   "outputs": [],
   "source": [
    "TUTORIAL_REPOSITORY = \"http://stardog.krw.d2s.labs.vu.nl/group12\"\n",
    "\n",
    "def upload_to_stardog(data):\n",
    "    transaction_begin_url = TUTORIAL_REPOSITORY + \"/transaction/begin\"\n",
    "    \n",
    "    # Start the transaction, and get a transaction_id\n",
    "    response = requests.post(transaction_begin_url, headers={'Accept': 'text/plain'})\n",
    "    transaction_id = response.content\n",
    "    print response.status_code\n",
    "    print response.headers\n",
    "    \n",
    "    \n",
    "    # POST the data to the transaction\n",
    "    post_url = TUTORIAL_REPOSITORY + \"/\" + transaction_id + \"/add\"\n",
    "    response = requests.post(post_url, data=data, headers={'Accept': 'text/plain', 'Content-type': 'application/trig'})\n",
    "    print response.status_code\n",
    "    print response.headers\n",
    "    \n",
    "    \n",
    "    # Close the transaction\n",
    "    transaction_close_url = TUTORIAL_REPOSITORY + \"/transaction/commit/\" + transaction_id\n",
    "    response = requests.post(transaction_close_url)\n",
    "    print response.status_code\n",
    "    print response.headers\n",
    "    \n",
    "    return str(response.status_code)"
   ]
  },
  {
   "cell_type": "code",
   "execution_count": 6,
   "metadata": {
    "collapsed": false
   },
   "outputs": [],
   "source": [
    "VALID_CHARS = list(\"ABCDEFGHIJKLMNOPQRSTUVWXYZabcdefghijklmnopqrstuvwxyz0123456789-._~:/?#[]@!$&'()*+,;=\")"
   ]
  },
  {
   "cell_type": "code",
   "execution_count": 7,
   "metadata": {
    "collapsed": false
   },
   "outputs": [],
   "source": [
    "wegvakken = csv.DictReader(open('amsterdam-wegvakken.csv', 'r'))"
   ]
  },
  {
   "cell_type": "code",
   "execution_count": 8,
   "metadata": {
    "collapsed": false
   },
   "outputs": [],
   "source": [
    "# A namespace for our resources\n",
    "data = 'http://data.krw.d2s.labs.vu.nl/group12/resource/'\n",
    "DATA = Namespace(data)\n",
    "# A namespace for our vocabulary items (schema information, RDFS, OWL classes and properties etc.)\n",
    "vocab = 'http://data.krw.d2s.labs.vu.nl/group12/vocab/'\n",
    "VOCAB = Namespace('http://data.krw.d2s.labs.vu.nl/group12/vocab/')\n",
    "\n",
    "# The URI for our graph\n",
    "graph_uri = URIRef('http://data.krw.d2s.labs.vu.nl/group12/resource/roadsectiongraph')\n",
    "\n",
    "# We initialize a dataset, and bind our namespaces\n",
    "dataset = Dataset()\n",
    "dataset.bind('g12data', DATA)\n",
    "dataset.bind('g12vocab', VOCAB)\n",
    "\n",
    "# We then get a new graph object with our URI from the dataset.\n",
    "graph = dataset.graph(graph_uri)\n",
    "\n",
    "# Create namespaces for our Geo-data\n",
    "GSP = Namespace('http://www.opengis.net/ont/geosparql#')\n",
    "GSF = Namespace('http://www.opengis.net/ont/sf#')\n",
    "prov = Namespace('http://www.w3.org/ns/prov#')\n"
   ]
  },
  {
   "cell_type": "code",
   "execution_count": 23,
   "metadata": {
    "collapsed": false,
    "scrolled": false
   },
   "outputs": [
    {
     "name": "stdout",
     "output_type": "stream",
     "text": [
      "MULTILINESTRING ((4.8704575407052886 52.3709131772428833, 4.8717299082828962 52.3712244679152050))\n@prefix : <http://data.krw.d2s.labs.vu.nl/group12/vocab#> .\n@prefix g12data: <http://data.krw.d2s.labs.vu.nl/group12/resource/> .\n@prefix g12vocab: <http://data.krw.d2s.labs.vu.nl/group12/vocab/> .\n@prefix ns1: <http://www.opengis.net/ont/geosparql#> .\n@prefix ns2: <urn:x-rdflib:> .\n@prefix owl: <http://www.w3.org/2002/07/owl#> .\n@prefix rdf: <http://www.w3.org/1999/02/22-rdf-syntax-ns#> .\n@prefix rdfs: <http://www.w3.org/2000/01/rdf-schema#> .\n@prefix xml: <http://www.w3.org/XML/1998/namespace> .\n@prefix xsd: <http://www.w3.org/2001/XMLSchema#> .\n\ng12data:roadsectiongraph {\n    <http://data.krw.d2s.labs.vu.nl/group12/resource/RoadSection/239374087> a g12vocab:RoadSection ;\n        rdfs:label \"RoadSection239374087\"^^xsd:string ;\n        g12vocab:e_hnr_lnks \"0\"^^xsd:int ;\n        g12vocab:e_hnr_rhts \"51\"^^xsd:int ;\n        g12vocab:hnrstrlnks \"N\"^^xsd:string ;\n        g12vocab:hnrstrrhts \"O\"^^xsd:string ;\n        g12vocab:junction_beg <http://data.krw.d2s.labs.vu.nl/group12/resource/Junction/239374027> ;\n        g12vocab:junction_end <http://data.krw.d2s.labs.vu.nl/group12/resource/Junction/239374137> ;\n        g12vocab:l_hnr_lnks \"0\"^^xsd:int ;\n        g12vocab:l_hnr_rhts \"31\"^^xsd:int ;\n        g12vocab:rijrichtng \"\"^^xsd:string ;\n        g12vocab:street g12data:De_Clercqstraat ;\n        g12vocab:town g12data:Amsterdam ;\n        g12vocab:wegbehsrt \"G\"^^xsd:string ;\n        g12vocab:wvk_id \"239374087\"^^xsd:int ;\n        ns1:hasGeometry <http://data.krw.d2s.labs.vu.nl/group12/resource/RoadSection/239374087/MultiLineString> .\n\n    g12data:Amsterdam a g12vocab:Town ;\n        g12vocab:gme_id \"363\"^^xsd:int ;\n        g12vocab:gme_naam \"Amsterdam\"@nl .\n\n    g12data:De_Clercqstraat a g12vocab:Street ;\n        rdfs:label \"De Clercqstraat\"@nl .\n\n    <http://data.krw.d2s.labs.vu.nl/group12/resource/Junction/239374027> a g12vocab:Junction ;\n        rdfs:label \"Junction239374027\"^^xsd:string ;\n        g12vocab:jte_id \"239374027\"^^xsd:int ;\n        ns1:hasGeometry <http://data.krw.d2s.labs.vu.nl/group12/resource/Junction/239374027/Point> .\n\n    <http://data.krw.d2s.labs.vu.nl/group12/resource/Junction/239374027/Point> a <http://www.opengis.net/ont/sf#Point> .\n\n    <http://data.krw.d2s.labs.vu.nl/group12/resource/Junction/239374137> a g12vocab:Junction ;\n        rdfs:label \"Junction239374137\"^^xsd:string ;\n        g12vocab:jte_id \"239374137\"^^xsd:int ;\n        ns1:hasGeometry <http://data.krw.d2s.labs.vu.nl/group12/resource/Junction/239374137/Point> .\n\n    <http://data.krw.d2s.labs.vu.nl/group12/resource/Junction/239374137/Point> a <http://www.opengis.net/ont/sf#Point> .\n\n    <http://data.krw.d2s.labs.vu.nl/group12/resource/RoadSection/239374087/MultiLineString> a <http://www.opengis.net/ont/sf#MultiLineString> ;\n        ns1:asWKT \"MULTILINESTRING ((4.8704575407052886 52.3709131772428833, 4.8717299082828962 52.3712244679152050))\"^^ns1:wktLiteral .\n}\n\n{\n    <http://data.krw.d2s.labs.vu.nl/group12/vocab> a owl:Ontology ;\n        owl:imports <http://www.opengis.net/ont/geosparql> ;\n        owl:versionInfo \"Created with Notepad++\"^^xsd:string .\n\n    :RoadSection236369046 a g12vocab:RoadSection,\n            owl:NamedIndividual ;\n        g12vocab:coordinates g12vocab:Coordinates_1 ;\n        g12vocab:junction_beg :Junction236369073 ;\n        g12vocab:junction_end :Junction236369074 .\n\n    g12vocab:antl_dod a owl:DatatypeProperty ;\n        rdfs:label \"number of dead victims\"^^xsd:string ;\n        rdfs:range xsd:int .\n\n    g12vocab:antl_gov a owl:DatatypeProperty ;\n        rdfs:label \"number of other victims\"^^xsd:string ;\n        rdfs:range xsd:int .\n\n    g12vocab:antl_gzh a owl:DatatypeProperty ;\n        rdfs:label \"number of injured, hospitalized victims\"^^xsd:string ;\n        rdfs:range xsd:int .\n\n    g12vocab:antl_ptj a owl:DatatypeProperty ;\n        rdfs:label \"number of parties\"^^xsd:string ;\n        rdfs:range xsd:int .\n\n    g12vocab:antl_seh a owl:DatatypeProperty ;\n        rdfs:label \"number of victims who received emergency treatment\"^^xsd:string ;\n        rdfs:range xsd:int .\n\n    g12vocab:antl_sla a owl:DatatypeProperty ;\n        rdfs:label \"number of victims\"^^xsd:string ;\n        rdfs:range xsd:int .\n\n    g12vocab:antl_tdt a owl:DatatypeProperty ;\n        rdfs:label \"number of circumstances\"^^xsd:string ;\n        rdfs:range xsd:int .\n\n    g12vocab:aol_id a owl:DatatypeProperty ;\n        rdfs:label \"nature of the accident\"^^xsd:string ;\n        rdfs:range xsd:string .\n\n    g12vocab:ap3_code a owl:DatatypeProperty ;\n        rdfs:label \"outcome of traffic accident\"^^xsd:string ;\n        rdfs:range xsd:string .\n\n    g12vocab:ap4_code a owl:DatatypeProperty ;\n        rdfs:label \"outcome of traffic accident (extended)\"^^xsd:string ;\n        rdfs:range xsd:string .\n\n    g12vocab:ap5_code a owl:DatatypeProperty ;\n        rdfs:label \"outcome of traffic accident (further extended)\"^^xsd:string ;\n        rdfs:range xsd:string .\n\n    g12vocab:bebkom a owl:DatatypeProperty ;\n        rdfs:label \"inside (BI) or outside (BU) the built-up area\"^^xsd:string ;\n        rdfs:range xsd:string .\n\n    g12vocab:begin_lat a owl:DatatypeProperty ;\n        rdfs:label \"begin latitude\"^^xsd:string ;\n        rdfs:range xsd:float .\n\n    g12vocab:begin_lng a owl:DatatypeProperty ;\n        rdfs:label \"begin longitude\"^^xsd:string ;\n        rdfs:range xsd:float .\n\n    g12vocab:bzd_id_if1 a owl:DatatypeProperty ;\n        rdfs:label \"particularities infrastructure 1\"^^xsd:string ;\n        rdfs:range xsd:string .\n\n    g12vocab:bzd_id_if2 a owl:DatatypeProperty ;\n        rdfs:label \"particularities infrastructure 2\"^^xsd:string ;\n        rdfs:range xsd:string .\n\n    g12vocab:bzd_id_if3 a owl:DatatypeProperty ;\n        rdfs:label \"particularities infrastructure 3\"^^xsd:string ;\n        rdfs:range xsd:string .\n\n    g12vocab:bzd_id_ta1 a owl:DatatypeProperty ;\n        rdfs:label \"particularities temporary 1\"^^xsd:string ;\n        rdfs:range xsd:string .\n\n    g12vocab:bzd_id_ta2 a owl:DatatypeProperty ;\n        rdfs:label \"particularities temporary 2\"^^xsd:string ;\n        rdfs:range xsd:string .\n\n    g12vocab:bzd_id_ta3 a owl:DatatypeProperty ;\n        rdfs:label \"particularities temporary 3\"^^xsd:string ;\n        rdfs:range xsd:string .\n\n    g12vocab:bzd_id_vm1 a owl:DatatypeProperty ;\n        rdfs:label \"particularities traffic measure 1\"^^xsd:string ;\n        rdfs:range xsd:string .\n\n    g12vocab:bzd_id_vm2 a owl:DatatypeProperty ;\n        rdfs:label \"particularities traffic measure 2\"^^xsd:string ;\n        rdfs:range xsd:string .\n\n    g12vocab:bzd_id_vm3 a owl:DatatypeProperty ;\n        rdfs:label \"particularities traffic measure 3\"^^xsd:string ;\n        rdfs:range xsd:string .\n\n    g12vocab:coordinates a owl:ObjectProperty ;\n        rdfs:range <http://www.opengis.net/ont/sf#MultiLineString> .\n\n    g12vocab:dateTime a owl:DatatypeProperty ;\n        rdfs:label \"date time\"^^xsd:string ;\n        rdfs:range xsd:dateTime .\n\n    g12vocab:ddl_id a owl:DatatypeProperty ;\n        rdfs:label \"part of day\"^^xsd:string ;\n        rdfs:range xsd:string .\n\n    g12vocab:e_hnr_lnks a owl:DatatypeProperty ;\n        rdfs:label \"first housenumber on the left\"^^xsd:string ;\n        rdfs:domain g12vocab:RoadSection ;\n        rdfs:range xsd:int .\n\n    g12vocab:e_hnr_rhts a owl:DatatypeProperty ;\n        rdfs:label \"first housenumber on the right\"^^xsd:string ;\n        rdfs:domain g12vocab:RoadSection ;\n        rdfs:range xsd:int .\n\n    g12vocab:end_lat a owl:DatatypeProperty ;\n        rdfs:label \"end latitude\"^^xsd:string ;\n        rdfs:range xsd:float .\n\n    g12vocab:end_lng a owl:DatatypeProperty ;\n        rdfs:label \"end longitude\"^^xsd:string ;\n        rdfs:range xsd:float .\n\n    g12vocab:geregeldSinds a owl:DatatypeProperty ;\n        rdfs:label \"in use since\"^^xsd:string ;\n        rdfs:range xsd:gYear .\n\n    g12vocab:gme_id a owl:DatatypeProperty ;\n        rdfs:label \"town id\"^^xsd:string ;\n        rdfs:domain g12vocab:Town ;\n        rdfs:range xsd:int .\n\n    g12vocab:gme_naam a owl:DatatypeProperty ;\n        rdfs:label \"town name\"^^xsd:string ;\n        rdfs:domain g12vocab:Town ;\n        rdfs:range xsd:string .\n\n    g12vocab:hnrstrlnks a owl:DatatypeProperty ;\n        rdfs:label \"housenumber type left\"^^xsd:string ;\n        rdfs:domain g12vocab:RoadSection ;\n        rdfs:range xsd:string .\n\n    g12vocab:hnrstrrhts a owl:DatatypeProperty ;\n        rdfs:label \"housenumber type right\"^^xsd:string ;\n        rdfs:domain g12vocab:RoadSection ;\n        rdfs:range xsd:string .\n\n    g12vocab:huisnummer a owl:DatatypeProperty ;\n        rdfs:label \"housenumber\"^^xsd:string ;\n        rdfs:range xsd:int .\n\n    g12vocab:jte_id a owl:DatatypeProperty ;\n        rdfs:label \"junction id\"^^xsd:string ;\n        rdfs:domain g12vocab:Junction ;\n        rdfs:range xsd:int .\n\n    g12vocab:junction a owl:ObjectProperty ;\n        rdfs:label \"junction\"^^xsd:string ;\n        rdfs:range g12vocab:Junction .\n\n    g12vocab:junction_beg a owl:ObjectProperty ;\n        rdfs:label \"junction begin\"^^xsd:string ;\n        rdfs:domain g12vocab:RoadSection ;\n        rdfs:range g12vocab:Junction .\n\n    g12vocab:junction_end a owl:ObjectProperty ;\n        rdfs:label \"junction end\"^^xsd:string ;\n        rdfs:domain g12vocab:RoadSection ;\n        rdfs:range g12vocab:Junction .\n\n    g12vocab:koppeling a owl:DatatypeProperty ;\n        rdfs:label \"link type\"^^xsd:string ;\n        rdfs:range xsd:string .\n\n    g12vocab:kruispuntnummer a owl:DatatypeProperty ;\n        rdfs:label \"trafficlight junction number\"^^xsd:string ;\n        rdfs:domain g12vocab:TrafficlightJunction ;\n        rdfs:range xsd:int .\n\n    g12vocab:l_hnr_lnks a owl:DatatypeProperty ;\n        rdfs:label \"last housenumber on the left\"^^xsd:string ;\n        rdfs:domain g12vocab:RoadSection ;\n        rdfs:range xsd:int .\n\n    g12vocab:l_hnr_rhts a owl:DatatypeProperty ;\n        rdfs:label \"last housenumber on the right\"^^xsd:string ;\n        rdfs:domain g12vocab:RoadSection ;\n        rdfs:range xsd:int .\n\n    g12vocab:lat a owl:DatatypeProperty ;\n        rdfs:label \"latitude\"^^xsd:string ;\n        rdfs:range xsd:float .\n\n    g12vocab:lgd_id a owl:DatatypeProperty ;\n        rdfs:label \"light conditions\"^^xsd:string ;\n        rdfs:range xsd:string .\n\n    g12vocab:lng a owl:DatatypeProperty ;\n        rdfs:label \"longitude\"^^xsd:string ;\n        rdfs:range xsd:float .\n\n    g12vocab:maxsnelhd a owl:DatatypeProperty ;\n        rdfs:label \"maximum speed (km/u)\"^^xsd:string ;\n        rdfs:range xsd:int .\n\n    g12vocab:mne_code a owl:DatatypeProperty ;\n        rdfs:label \"type of maneuvers\"^^xsd:string ;\n        rdfs:range xsd:string .\n\n    g12vocab:pvopgem a owl:DatatypeProperty ;\n        rdfs:label \"police report created\"^^xsd:string ;\n        rdfs:domain g12vocab:TrafficAccident ;\n        rdfs:range xsd:string .\n\n    g12vocab:regeling a owl:DatatypeProperty ;\n        rdfs:label \"regulation\"^^xsd:string ;\n        rdfs:range xsd:string .\n\n    g12vocab:rijrichting a owl:DatatypeProperty ;\n        rdfs:label \"driving direction\"^^xsd:string ;\n        rdfs:domain g12vocab:RoadSection ;\n        rdfs:range xsd:string .\n\n    g12vocab:roadSection a owl:ObjectProperty ;\n        rdfs:label \"road section\"^^xsd:string ;\n        rdfs:range g12vocab:RoadSection .\n\n    g12vocab:soort a owl:DatatypeProperty ;\n        rdfs:label \"type\"^^xsd:string ;\n        rdfs:range xsd:string .\n\n    g12vocab:status a owl:DatatypeProperty ;\n        rdfs:label \"status\"^^xsd:string ;\n        rdfs:range xsd:string .\n\n    g12vocab:street a owl:ObjectProperty ;\n        rdfs:label \"street\"^^xsd:string ;\n        rdfs:range g12vocab:Street .\n\n    g12vocab:town a owl:ObjectProperty ;\n        rdfs:label \"town\"^^xsd:string ;\n        rdfs:range g12vocab:Town .\n\n    g12vocab:trafficlight a owl:ObjectProperty ;\n        rdfs:label \"trafficlight\"^^xsd:string ;\n        rdfs:range g12vocab:Trafficlight .\n\n    g12vocab:trafficlightJunction a owl:ObjectProperty ;\n        rdfs:label \"trafficlightJunction\"^^xsd:string ;\n        rdfs:range g12vocab:TrafficlightJunction .\n\n    g12vocab:vervallenSinds a owl:DatatypeProperty ;\n        rdfs:label \"no longer in use since\"^^xsd:string ;\n        rdfs:range xsd:gYear .\n\n    g12vocab:vkl_nummer a owl:DatatypeProperty ;\n        rdfs:label \"traffic accident number\"^^xsd:string ;\n        rdfs:domain g12vocab:TrafficAccident ;\n        rdfs:range xsd:long .\n\n    g12vocab:wdk_id a owl:DatatypeProperty ;\n        rdfs:label \"road pavement\"^^xsd:string ;\n        rdfs:range xsd:string .\n\n    g12vocab:weblink a owl:ObjectProperty ;\n        rdfs:label \"weblink\"^^xsd:string .\n\n    g12vocab:wegbehsrt a owl:DatatypeProperty ;\n        rdfs:label \"road section administration type\"^^xsd:string ;\n        rdfs:domain g12vocab:RoadSection ;\n        rdfs:range xsd:string .\n\n    g12vocab:wgd_code_1 a owl:DatatypeProperty ;\n        rdfs:label \"weather situation 1\"^^xsd:string ;\n        rdfs:range xsd:string .\n\n    g12vocab:wgd_code_2 a owl:DatatypeProperty ;\n        rdfs:label \"weather situation 2\"^^xsd:string ;\n        rdfs:range xsd:string .\n\n    g12vocab:wse_id a owl:DatatypeProperty ;\n        rdfs:label \"road situation\"^^xsd:string ;\n        rdfs:range xsd:string .\n\n    g12vocab:wvg_id a owl:DatatypeProperty ;\n        rdfs:label \"road surfacing\"^^xsd:string ;\n        rdfs:range xsd:string .\n\n    g12vocab:wvk_id a owl:DatatypeProperty ;\n        rdfs:label \"road section id\"^^xsd:string ;\n        rdfs:domain g12vocab:RoadSection ;\n        rdfs:range xsd:int .\n\n    g12vocab:wvl_id a owl:DatatypeProperty ;\n        rdfs:label \"road lighting situation\"^^xsd:string ;\n        rdfs:range xsd:string .\n\n    g12vocab:zad_id a owl:DatatypeProperty ;\n        rdfs:label \"sight distance\"^^xsd:string ;\n        rdfs:range xsd:string .\n\n    :Junction236369073 a owl:NamedIndividual .\n\n    :Junction236369074 a owl:NamedIndividual .\n\n    g12vocab:Accident a owl:Class ;\n        rdfs:label \"Accident\"^^xsd:string ;\n        rdfs:subClassOf g12vocab:Event .\n\n    g12vocab:Coordinates_1 a <http://www.opengis.net/ont/sf#LineString>,\n            owl:NamedIndividual .\n\n    g12vocab:Street a owl:Class ;\n        rdfs:label \"Street\"^^xsd:string ;\n        rdfs:subClassOf g12vocab:Location .\n\n    g12vocab:Trafficlight a owl:Class ;\n        rdfs:label \"Trafficlight\"^^xsd:string ;\n        rdfs:subClassOf g12vocab:Location .\n\n    :at a owl:ObjectProperty .\n\n    :at_location a owl:ObjectProperty ;\n        rdfs:subPropertyOf :at .\n\n    :from a owl:DatatypeProperty ;\n        rdfs:range xsd:dateTime .\n\n    :to a owl:DatatypeProperty ;\n        rdfs:range xsd:dateTime .\n\n    g12vocab:Event a owl:Class ;\n        rdfs:subClassOf [ a owl:Class ;\n                owl:intersectionOf ( [ a owl:Restriction ;\n                            owl:onDataRange xsd:dateTime ;\n                            owl:onProperty :from ;\n                            owl:qualifiedCardinality \"1\"^^xsd:nonNegativeInteger ] [ a owl:Restriction ;\n                            owl:onDataRange xsd:dateTime ;\n                            owl:onProperty :to ;\n                            owl:qualifiedCardinality \"1\"^^xsd:nonNegativeInteger ] ) ] ;\n        owl:equivalentClass [ a owl:Class ;\n                owl:intersectionOf ( g12vocab:Event [ a owl:Restriction ;\n                            owl:onProperty :at_location ;\n                            owl:someValuesFrom g12vocab:Location ] ) ],\n            [ a owl:Class ;\n                owl:intersectionOf ( [ a owl:Restriction ;\n                            owl:onProperty :from ;\n                            owl:someValuesFrom xsd:dateTime ] [ a owl:Restriction ;\n                            owl:onProperty :to ;\n                            owl:someValuesFrom xsd:dateTime ] ) ] .\n\n    g12vocab:TrafficAccident a owl:Class ;\n        rdfs:label \"Traffic Accident\"^^xsd:string ;\n        rdfs:subClassOf g12vocab:Accident,\n            owl:Thing .\n\n    g12vocab:TrafficlightJunction a owl:Class ;\n        rdfs:label \"TrafficlightJunction\"^^xsd:string ;\n        rdfs:subClassOf g12vocab:Junction .\n\n    xsd:gYear a rdfs:Datatype .\n\n    g12vocab:Town a owl:Class ;\n        rdfs:label \"Town\"^^xsd:string ;\n        rdfs:subClassOf g12vocab:Location .\n\n    g12vocab:Junction a owl:Class ;\n        rdfs:label \"Junction\"^^xsd:string ;\n        rdfs:subClassOf g12vocab:Location ;\n        owl:disjointWith g12vocab:RoadSection .\n\n    g12vocab:Location a owl:Class ;\n        rdfs:subClassOf [ a owl:Restriction ;\n                owl:onProperty :at ;\n                owl:someValuesFrom g12vocab:Location ] ;\n        owl:equivalentClass [ a owl:Restriction ;\n                owl:hasSelf true ;\n                owl:onProperty :at_location ] .\n\n    g12vocab:RoadSection a owl:Class ;\n        rdfs:label \"RoadSection\"^^xsd:string ;\n        rdfs:subClassOf g12vocab:Location .\n}\n\n\n200\n{'Content-Encoding': 'gzip', 'Transfer-Encoding': 'chunked', 'Keep-Alive': 'timeout=5, max=100', 'Server': 'nginx/1.4.6 (Ubuntu)', 'Connection': 'Keep-Alive', 'Date': 'Thu, 21 Apr 2016 09:12:01 GMT', 'Access-Control-Allow-Origin': '*', 'Content-Type': 'text/plain'}\n"
     ]
    },
    {
     "name": "stdout",
     "output_type": "stream",
     "text": [
      "200\n{'Content-Encoding': 'gzip', 'Transfer-Encoding': 'chunked', 'Keep-Alive': 'timeout=5, max=100', 'Server': 'nginx/1.4.6 (Ubuntu)', 'Connection': 'Keep-Alive', 'Date': 'Thu, 21 Apr 2016 09:12:01 GMT', 'Access-Control-Allow-Origin': '*', 'Content-Type': 'text/plain'}\n500\n{'Date': 'Thu, 21 Apr 2016 09:12:01 GMT', 'Content-Length': '0', 'Connection': 'close', 'Server': 'nginx/1.4.6 (Ubuntu)'}\nresponse.status_code = 500\n"
     ]
    }
   ],
   "source": [
    "# Load the externally defined schema into the default graph (context) of the dataset\n",
    "dataset = Dataset()\n",
    "dataset.bind('g12data',DATA)\n",
    "dataset.bind('g12vocab',VOCAB)\n",
    "dataset.default_context.parse('vocab.ttl', format='turtle')\n",
    "graph = dataset.graph(graph_uri)\n",
    "# create pattern for splitting streets in Kruispunt column\n",
    "splitpattern = re.compile(r' / *| - ')\n",
    "\n",
    "uploadCount = 0\n",
    "for row in wegvakken:\n",
    "    # first create the URI's\n",
    "    wegvak = URIRef(to_iri(data + 'RoadSection/' + row['wvk_id']))\n",
    "    jte_beg = URIRef(to_iri(data + 'Junction/' + row['jte_id_beg']))\n",
    "    jte_end = URIRef(to_iri(data + 'Junction/' + row['jte_id_end']))\n",
    "    hnrstrrhts = Literal(row['hnrstrrhts'], datatype=XSD['string'])\n",
    "    hnrstrlnks = Literal(row['hnrstrlnks'], datatype=XSD['string'])\n",
    "    e_hnr_rhts = Literal(row['e_hnr_rhts'], datatype=XSD['int'])\n",
    "    e_hnr_lnks = Literal(row['e_hnr_lnks'], datatype=XSD['int'])\n",
    "    l_hnr_rhts = Literal(row['l_hnr_rhts'], datatype=XSD['int'])\n",
    "    stt_naam = ''.join([c for c in row['stt_naam'].strip().replace(' ', '_') if c in VALID_CHARS])\n",
    "    straatUri = URIRef(to_iri(data + stt_naam))\n",
    "    gemeenteNaam = ''.join([c for c in row['gme_naam'].replace(' ', '_') if c in VALID_CHARS])\n",
    "    dorp = URIRef(to_iri(data + gemeenteNaam))\n",
    "    wegvak_MLS = URIRef(to_iri(data + 'RoadSection/' + row['wvk_id'] + '/MultiLineString'))\n",
    "    jte_beg_Point = URIRef(to_iri(data + 'Junction/' + row['jte_id_beg'] + '/Point'))\n",
    "    jte_end_Point = URIRef(to_iri(data + 'Junction/' + row['jte_id_end'] + '/Point'))\n",
    "\n",
    "    #then the literals\n",
    "    wegvakNaam = Literal('RoadSection' + row['wvk_id'], datatype=XSD['string'])\n",
    "    wegvakid = Literal(row['wvk_id'], datatype=XSD['int'])\n",
    "    straatNaam = Literal(row['stt_naam'].strip(), lang='nl')\n",
    "    l_hnr_lnks = Literal(row['l_hnr_lnks'], datatype=XSD['int'])\n",
    "    rijrichtng = Literal(row['rijrichtng'], datatype=XSD['string'])\n",
    "    baansubsrt = Literal(row['baansubsrt'], datatype=XSD['string'])\n",
    "    wegbehsrt = Literal(row['wegbehsrt'], datatype=XSD['string'])\n",
    "    gemid = Literal(row['gme_id'], datatype=XSD['int'])\n",
    "    gemeente = Literal(row['gme_naam'], lang='nl')\n",
    "    jte_beg_id = Literal(row['jte_id_beg'], datatype=XSD['int'])\n",
    "    jte_end_id = Literal(row['jte_id_end'], datatype=XSD['int'])\n",
    "    jte_beg_naam = Literal('Junction' + row['jte_id_beg'], datatype=XSD['string'])\n",
    "    jte_end_naam = Literal('Junction' + row['jte_id_end'], datatype=XSD['string'])\n",
    "    #     avgCoordinates = json.loads(row['avgCoordinates'])\n",
    "    #     lat = Literal(avgCoordinates[1], datatype=XSD['float'])\n",
    "    #     lng = Literal(avgCoordinates[0], datatype=XSD['float'])\n",
    "    #     coordinates = json.loads(row['coordinates'])[0]\n",
    "    #     begLat = Literal(coordinates[0][1], datatype=XSD['float'])\n",
    "    #     begLng = Literal(coordinates[0][0], datatype=XSD['float'])\n",
    "    #     endLat = Literal(coordinates[-1][1], datatype=XSD['float'])\n",
    "    #     endLng = Literal(coordinates[-1][0], datatype=XSD['float'])\n",
    "\n",
    "    parsedCoordinates = wkt.dumps({'type': 'MultiLineString', 'coordinates': json.loads(row['coordinates'])})\n",
    "    print parsedCoordinates\n",
    "    coords = Literal(parsedCoordinates, datatype=GSP.wktLiteral)\n",
    "\n",
    "    graph.add((wegvak, RDFS.label, wegvakNaam))\n",
    "    graph.add((wegvak, RDF.type, VOCAB['RoadSection']))\n",
    "    graph.add((wegvak, VOCAB['wvk_id'], wegvakid))\n",
    "    #     graph.add((wegvak, VOCAB['lat'], lat))\n",
    "    #     graph.add((wegvak, VOCAB['lng'], lng))\n",
    "    graph.add((straatUri, RDF.type, VOCAB['Street']))\n",
    "    graph.add((straatUri, RDFS.label, straatNaam))\n",
    "    graph.add((wegvak, VOCAB['street'], straatUri))\n",
    "    graph.add((dorp, RDF.type, VOCAB['Town']))\n",
    "    graph.add((dorp, VOCAB['gme_naam'], gemeente))\n",
    "    graph.add((dorp, VOCAB['gme_id'], gemid))\n",
    "    graph.add((wegvak, VOCAB['town'], dorp))\n",
    "    graph.add((wegvak, VOCAB['hnrstrrhts'], hnrstrrhts))\n",
    "    graph.add((wegvak, VOCAB['hnrstrlnks'], hnrstrlnks))\n",
    "    graph.add((wegvak, VOCAB['e_hnr_rhts'], e_hnr_rhts))\n",
    "    graph.add((wegvak, VOCAB['e_hnr_lnks'], e_hnr_lnks))\n",
    "    graph.add((wegvak, VOCAB['l_hnr_rhts'], l_hnr_rhts))\n",
    "    graph.add((wegvak, VOCAB['l_hnr_lnks'], l_hnr_lnks))\n",
    "    graph.add((wegvak, VOCAB['rijrichtng'], rijrichtng))\n",
    "    graph.add((wegvak, VOCAB['wegbehsrt'], wegbehsrt))\n",
    "    graph.add((jte_beg, RDF.type, VOCAB['Junction']))\n",
    "    graph.add((jte_beg, RDFS.label, jte_beg_naam))\n",
    "    graph.add((jte_beg, VOCAB['jte_id'], jte_beg_id))\n",
    "    graph.add((jte_beg, GSP.hasGeometry, jte_beg_Point))\n",
    "    #     graph.add((jte_beg, VOCAB['lat'], begLat))\n",
    "    #     graph.add((jte_beg, VOCAB['lng'], begLng))\n",
    "    graph.add((jte_end, RDF.type, VOCAB['Junction']))\n",
    "    graph.add((jte_end, RDFS.label, jte_end_naam))\n",
    "    graph.add((jte_end, VOCAB['jte_id'], jte_end_id))\n",
    "    graph.add((jte_end, GSP.hasGeometry, jte_end_Point))\n",
    "    #     graph.add((jte_end, VOCAB['lat'], endLat))\n",
    "    #     graph.add((jte_end, VOCAB['lng'], endLng))\n",
    "    graph.add((wegvak, VOCAB['junction_beg'], jte_beg))\n",
    "    graph.add((wegvak, VOCAB['junction_end'], jte_end))\n",
    "    graph.add((wegvak, GSP.hasGeometry, wegvak_MLS))\n",
    "    graph.add((wegvak_MLS, RDF.type, GSF.MultiLineString))\n",
    "    graph.add((wegvak_MLS, GSP.asWKT, coords))  # For some reason this triple causes problems for the triple store\n",
    "    # print \"skip\", (wegvak_MLS, GSP.asWKT, coords)\n",
    "    graph.add((jte_beg_Point, RDF.type, GSF.Point))\n",
    "    graph.add((jte_end_Point, RDF.type, GSF.Point))\n",
    "    print dataset.serialize(format='trig')\n",
    "    print 'response.status_code = ' + upload_to_stardog(dataset.serialize(format='trig'))\n",
    "    break\n",
    "    count = count + 1\n",
    "    if count % 400 == 0:\n",
    "        #         print 'response.status_code = ' + upload_to_stardog(dataset.serialize(format='trig'))\n",
    "\n",
    "        # We reset the dataset, and bind our namespaces\n",
    "        dataset = Dataset()\n",
    "        dataset.bind('g12data', DATA)\n",
    "        dataset.bind('g12vocab', VOCAB)\n",
    "\n",
    "        # We then get a new graph object with our URI from the dataset.\n",
    "        graph = dataset.graph(graph_uri)\n",
    "\n",
    "\n",
    "        # upload the final bit of data\n",
    "        # print str(uploadCount) + ': response.status_code = ' + upload_to_stardog(dataset.serialize(format='trig'))"
   ]
  },
  {
   "cell_type": "code",
   "execution_count": 10,
   "metadata": {
    "collapsed": false
   },
   "outputs": [
    {
     "name": "stdout",
     "output_type": "stream",
     "text": [
      "MULTILINESTRING ((4.7928810872111827 52.3533169280984296, 4.7934664900267299 52.3534456954132636, 4.7950266785200650 52.3537426492129256))\n"
     ]
    }
   ],
   "source": [
    "print coords"
   ]
  },
  {
   "cell_type": "code",
   "execution_count": 11,
   "metadata": {
    "collapsed": false,
    "scrolled": true
   },
   "outputs": [],
   "source": [
    "# print dataset.serialize(format='trig')"
   ]
  },
  {
   "cell_type": "code",
   "execution_count": 12,
   "metadata": {
    "collapsed": true
   },
   "outputs": [],
   "source": [
    "# with open('temp-roadsections-rdf.trig','w') as f:\n",
    "#     dataset.serialize(f, format='trig')"
   ]
  },
  {
   "cell_type": "code",
   "execution_count": null,
   "metadata": {
    "collapsed": true
   },
   "outputs": [],
   "source": [
    ""
   ]
  }
 ],
 "metadata": {
  "kernelspec": {
   "display_name": "Python 2",
   "language": "python",
   "name": "python2"
  },
  "language_info": {
   "codemirror_mode": {
    "name": "ipython",
    "version": 2.0
   },
   "file_extension": ".py",
   "mimetype": "text/x-python",
   "name": "python",
   "nbconvert_exporter": "python",
   "pygments_lexer": "ipython2",
   "version": "2.7.11"
  }
 },
 "nbformat": 4,
 "nbformat_minor": 0
}